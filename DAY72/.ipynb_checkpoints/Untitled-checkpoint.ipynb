{
 "cells": [
  {
   "cell_type": "markdown",
   "id": "0f50978b",
   "metadata": {},
   "source": [
    "Today you will learn:\n",
    "\n",
    "    How to visualise your data and create charts with Matplotlib\n",
    "\n",
    "    How to pivot, group and manipulate your data with Pandas to get it into the format you want\n",
    "\n",
    "    How to work with timestamps and time-series data\n",
    "\n",
    "    How to style and customise a line chart to your liking\n",
    "\n",
    "\n"
   ]
  },
  {
   "cell_type": "markdown",
   "id": "d47317d9",
   "metadata": {},
   "source": [
    "with count number of tags in stackoverflow for each programming languge"
   ]
  },
  {
   "cell_type": "code",
   "execution_count": null,
   "id": "0bf68f7a",
   "metadata": {},
   "outputs": [],
   "source": []
  }
 ],
 "metadata": {
  "kernelspec": {
   "display_name": "Python 3 (ipykernel)",
   "language": "python",
   "name": "python3"
  },
  "language_info": {
   "codemirror_mode": {
    "name": "ipython",
    "version": 3
   },
   "file_extension": ".py",
   "mimetype": "text/x-python",
   "name": "python",
   "nbconvert_exporter": "python",
   "pygments_lexer": "ipython3",
   "version": "3.10.5"
  }
 },
 "nbformat": 4,
 "nbformat_minor": 5
}
