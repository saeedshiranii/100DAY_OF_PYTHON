{
 "cells": [
  {
   "cell_type": "markdown",
   "metadata": {
    "colab_type": "text",
    "dc": {
     "key": "1d0b086e6c"
    },
    "id": "s9JLDE8NIquP",
    "run_control": {
     "frozen": true
    },
    "tags": [
     "context"
    ]
   },
   "source": [
    "# Introduction\n",
    "\n",
    "Today we'll dive deep into a dataset all about LEGO. From the dataset we can ask whole bunch of interesting questions about the history of the LEGO company, their product offering, and which LEGO set ultimately rules them all:\n",
    "\n",
    "<ul type=\"square\">\n",
    "<li>What is the most enormous LEGO set ever created and how many parts did it have?</li>\n",
    "\n",
    "<li>How did the LEGO company start out? In which year were the first LEGO sets released and how many sets did the company sell when it first launched?</li>\n",
    "\n",
    "<li>Which LEGO theme has the most sets? Is it one of LEGO's own themes like Ninjago or a theme they licensed liked Harry Potter or Marvel Superheroes?</li>\n",
    "\n",
    "<li>When did the LEGO company really expand its product offering? Can we spot a change in the company strategy based on how many themes and sets did it released year-on-year?</li>\n",
    "\n",
    "<li>Did LEGO sets grow in size and complexity over time? Do older LEGO \n",
    "sets tend to have more or fewer parts than newer sets?</li>\n",
    "</ul>\n",
    "\n",
    "**Data Source**\n",
    "\n",
    "[Rebrickable](https://rebrickable.com/downloads/) has compiled data on all the LEGO pieces in existence. I recommend you use download the .csv files provided in this lesson. "
   ]
  },
  {
   "cell_type": "markdown",
   "metadata": {},
   "source": [
    "# add image\n",
    "<img src='https://r1.ilikewallpaper.net/iphone-wallpapers/download/34834/Funny-LEGO-Pieces-Hugging-iphone-wallpaper-ilikewallpaper_com.jpg'>"
   ]
  },
  {
   "cell_type": "markdown",
   "metadata": {},
   "source": [
    "#  Adding Images\n",
    "\n",
    "Display an image in a Text cell, use an HTML <img> tag with the URL of the image. For example:\n",
    "\n",
    "\"\"<' img src=\"https://i.imgur.com/49FNOHj.jpg\">\n",
    "\n",
    "If you are using Jupyter Notebook instead of Google Colab, you can also link to one of the files provided in the .zip like so:\n",
    "\n",
    "<'img src=\"assets/bricks.jpg\">"
   ]
  },
  {
   "cell_type": "markdown",
   "metadata": {
    "colab_type": "text",
    "id": "V0u2lGJuIquQ"
   },
   "source": [
    "# Import Statements"
   ]
  },
  {
   "cell_type": "code",
   "execution_count": 3,
   "metadata": {
    "colab": {},
    "colab_type": "code",
    "id": "z5Wk7rs-IquQ"
   },
   "outputs": [],
   "source": [
    "import pandas as pd"
   ]
  },
  {
   "cell_type": "markdown",
   "metadata": {
    "colab_type": "text",
    "id": "R5NQpJ_KIquT"
   },
   "source": [
    "# Data Exploration"
   ]
  },
  {
   "cell_type": "markdown",
   "metadata": {
    "colab_type": "text",
    "dc": {
     "key": "044b2cef41"
    },
    "id": "ffaG-UFYIquT",
    "run_control": {
     "frozen": true
    },
    "tags": [
     "context"
    ]
   },
   "source": [
    "**Challenge**: How many different colours does the LEGO company produce? Read the colors.csv file in the data folder and find the total number of unique colours. Try using the [.nunique() method](https://pandas.pydata.org/pandas-docs/stable/reference/api/pandas.DataFrame.nunique.html?highlight=nunique#pandas.DataFrame.nunique) to accomplish this."
   ]
  },
  {
   "cell_type": "code",
   "execution_count": 4,
   "metadata": {},
   "outputs": [
    {
     "name": "stdout",
     "output_type": "stream",
     "text": [
      "\u001b[0m\u001b[01;34massets\u001b[0m/  \u001b[01;34mdata\u001b[0m/  DAY73.ipynb\r\n"
     ]
    }
   ],
   "source": [
    "ls"
   ]
  },
  {
   "cell_type": "code",
   "execution_count": 5,
   "metadata": {
    "colab": {},
    "colab_type": "code",
    "id": "yd4G9pK7IquU"
   },
   "outputs": [],
   "source": [
    "colors = pd.read_csv('./data/colors.csv')"
   ]
  },
  {
   "cell_type": "code",
   "execution_count": 6,
   "metadata": {
    "colab": {},
    "colab_type": "code",
    "dc": {
     "key": "044b2cef41"
    },
    "id": "QmbAXax7IquW",
    "tags": [
     "sample_code"
    ]
   },
   "outputs": [
    {
     "data": {
      "text/html": [
       "<div>\n",
       "<style scoped>\n",
       "    .dataframe tbody tr th:only-of-type {\n",
       "        vertical-align: middle;\n",
       "    }\n",
       "\n",
       "    .dataframe tbody tr th {\n",
       "        vertical-align: top;\n",
       "    }\n",
       "\n",
       "    .dataframe thead th {\n",
       "        text-align: right;\n",
       "    }\n",
       "</style>\n",
       "<table border=\"1\" class=\"dataframe\">\n",
       "  <thead>\n",
       "    <tr style=\"text-align: right;\">\n",
       "      <th></th>\n",
       "      <th>id</th>\n",
       "      <th>name</th>\n",
       "      <th>rgb</th>\n",
       "      <th>is_trans</th>\n",
       "    </tr>\n",
       "  </thead>\n",
       "  <tbody>\n",
       "    <tr>\n",
       "      <th>0</th>\n",
       "      <td>-1</td>\n",
       "      <td>Unknown</td>\n",
       "      <td>0033B2</td>\n",
       "      <td>f</td>\n",
       "    </tr>\n",
       "    <tr>\n",
       "      <th>1</th>\n",
       "      <td>0</td>\n",
       "      <td>Black</td>\n",
       "      <td>05131D</td>\n",
       "      <td>f</td>\n",
       "    </tr>\n",
       "    <tr>\n",
       "      <th>2</th>\n",
       "      <td>1</td>\n",
       "      <td>Blue</td>\n",
       "      <td>0055BF</td>\n",
       "      <td>f</td>\n",
       "    </tr>\n",
       "    <tr>\n",
       "      <th>3</th>\n",
       "      <td>2</td>\n",
       "      <td>Green</td>\n",
       "      <td>237841</td>\n",
       "      <td>f</td>\n",
       "    </tr>\n",
       "    <tr>\n",
       "      <th>4</th>\n",
       "      <td>3</td>\n",
       "      <td>Dark Turquoise</td>\n",
       "      <td>008F9B</td>\n",
       "      <td>f</td>\n",
       "    </tr>\n",
       "  </tbody>\n",
       "</table>\n",
       "</div>"
      ],
      "text/plain": [
       "   id            name     rgb is_trans\n",
       "0  -1         Unknown  0033B2        f\n",
       "1   0           Black  05131D        f\n",
       "2   1            Blue  0055BF        f\n",
       "3   2           Green  237841        f\n",
       "4   3  Dark Turquoise  008F9B        f"
      ]
     },
     "execution_count": 6,
     "metadata": {},
     "output_type": "execute_result"
    }
   ],
   "source": [
    "colors.head()"
   ]
  },
  {
   "cell_type": "code",
   "execution_count": 6,
   "metadata": {
    "colab": {},
    "colab_type": "code",
    "dc": {
     "key": "15c1e2ce38"
    },
    "id": "SMc2sKiIIquY",
    "tags": [
     "sample_code"
    ]
   },
   "outputs": [
    {
     "data": {
      "text/plain": [
       "<bound method DataFrame.nunique of        id                          name     rgb is_trans\n",
       "0      -1                       Unknown  0033B2        f\n",
       "1       0                         Black  05131D        f\n",
       "2       1                          Blue  0055BF        f\n",
       "3       2                         Green  237841        f\n",
       "4       3                Dark Turquoise  008F9B        f\n",
       "..    ...                           ...     ...      ...\n",
       "130  1004  Trans Flame Yellowish Orange  FCB76D        t\n",
       "131  1005             Trans Fire Yellow  FBE890        t\n",
       "132  1006        Trans Light Royal Blue  B4D4F7        t\n",
       "133  1007                 Reddish Lilac  8E5597        f\n",
       "134  9999                    [No Color]  05131D        f\n",
       "\n",
       "[135 rows x 4 columns]>"
      ]
     },
     "execution_count": 6,
     "metadata": {},
     "output_type": "execute_result"
    }
   ],
   "source": [
    "unique_colors = colors.nunique # for see unique objects in dataframe\n",
    "unique_colors"
   ]
  },
  {
   "cell_type": "markdown",
   "metadata": {
    "colab_type": "text",
    "dc": {
     "key": "a5723ae5c2"
    },
    "id": "PItRbqgcIqua",
    "run_control": {
     "frozen": true
    },
    "tags": [
     "context"
    ]
   },
   "source": [
    "**Challenge**: Find the number of transparent colours where <code>is_trans == 't'</code> versus the number of opaque colours where <code>is_trans == 'f'</code>. See if you can accomplish this in two different ways."
   ]
  },
  {
   "cell_type": "markdown",
   "metadata": {},
   "source": [
    "# way 1"
   ]
  },
  {
   "cell_type": "code",
   "execution_count": 7,
   "metadata": {
    "colab": {},
    "colab_type": "code",
    "id": "1UZrfq82Iqub"
   },
   "outputs": [
    {
     "data": {
      "text/plain": [
       "107"
      ]
     },
     "execution_count": 7,
     "metadata": {},
     "output_type": "execute_result"
    }
   ],
   "source": [
    "colors['is_trans'].to_list().count('f') # is_tran = f -- count is a list method\n"
   ]
  },
  {
   "cell_type": "code",
   "execution_count": 8,
   "metadata": {
    "colab": {},
    "colab_type": "code",
    "id": "KQFf-leCIqud"
   },
   "outputs": [
    {
     "data": {
      "text/plain": [
       "28"
      ]
     },
     "execution_count": 8,
     "metadata": {},
     "output_type": "execute_result"
    }
   ],
   "source": [
    "colors['is_trans'].to_list().count('t') # is_tran = t\n"
   ]
  },
  {
   "cell_type": "markdown",
   "metadata": {},
   "source": [
    "## way2"
   ]
  },
  {
   "cell_type": "code",
   "execution_count": null,
   "metadata": {},
   "outputs": [],
   "source": []
  },
  {
   "cell_type": "code",
   "execution_count": null,
   "metadata": {},
   "outputs": [],
   "source": []
  },
  {
   "cell_type": "code",
   "execution_count": null,
   "metadata": {},
   "outputs": [],
   "source": []
  },
  {
   "cell_type": "markdown",
   "metadata": {
    "colab_type": "text",
    "id": "TMqdhUYcusfy"
   },
   "source": [
    "**Challenge**: Change this into an h3 section heading: Understanding LEGO Themes vs. LEGO Sets"
   ]
  },
  {
   "cell_type": "markdown",
   "metadata": {},
   "source": [
    "###  Understanding LEGO Themes vs. LEGO Sets"
   ]
  },
  {
   "cell_type": "markdown",
   "metadata": {
    "colab_type": "text",
    "id": "y0kxCh63uwOv"
   },
   "source": [
    "Walk into a LEGO store and you will see their products organised by theme. Their themes include Star Wars, Batman, Harry Potter and many more.\n",
    "\n",
    "**Challenge**: Display this image: https://i.imgur.com/aKcwkSx.png"
   ]
  },
  {
   "cell_type": "markdown",
   "metadata": {},
   "source": [
    "<img scr='https://i.imgur.com/aKcwkSx.png'>"
   ]
  },
  {
   "cell_type": "markdown",
   "metadata": {
    "colab_type": "text",
    "dc": {
     "key": "c9d0e58653"
    },
    "id": "u_xkZUF8Iqug",
    "run_control": {
     "frozen": true
    },
    "tags": [
     "context"
    ]
   },
   "source": [
    "A lego set is a particular box of LEGO or product. Therefore, a single theme typically has many different sets.\n",
    "\n",
    "**Challenge**: Display this image https://i.imgur.com/whB1olq.png "
   ]
  },
  {
   "cell_type": "markdown",
   "metadata": {},
   "source": [
    "<img scr='data:image/jpeg;base64,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'>"
   ]
  },
  {
   "cell_type": "markdown",
   "metadata": {
    "colab_type": "text",
    "id": "jJTAROe5unkx"
   },
   "source": [
    "The <code>sets.csv</code> data contains a list of sets over the years and the number of parts that each of these sets contained.\n",
    "\n",
    "**Challenge**: Read the sets.csv data and take a look at the first and last couple of rows. "
   ]
  },
  {
   "cell_type": "code",
   "execution_count": 10,
   "metadata": {},
   "outputs": [
    {
     "name": "stdout",
     "output_type": "stream",
     "text": [
      " \u001b[0m\u001b[01;34massets\u001b[0m/   \u001b[01;34mdata\u001b[0m/  'Lego_Analysis_for_Course_(start).ipynb'\r\n"
     ]
    }
   ],
   "source": [
    "ls"
   ]
  },
  {
   "cell_type": "code",
   "execution_count": 7,
   "metadata": {
    "colab": {},
    "colab_type": "code",
    "id": "vGMOv-NRIquh"
   },
   "outputs": [],
   "source": [
    "sets = pd.read_csv('./data/sets.csv')"
   ]
  },
  {
   "cell_type": "code",
   "execution_count": 8,
   "metadata": {
    "colab": {},
    "colab_type": "code",
    "id": "T3lLFvyZIqui"
   },
   "outputs": [
    {
     "data": {
      "text/html": [
       "<div>\n",
       "<style scoped>\n",
       "    .dataframe tbody tr th:only-of-type {\n",
       "        vertical-align: middle;\n",
       "    }\n",
       "\n",
       "    .dataframe tbody tr th {\n",
       "        vertical-align: top;\n",
       "    }\n",
       "\n",
       "    .dataframe thead th {\n",
       "        text-align: right;\n",
       "    }\n",
       "</style>\n",
       "<table border=\"1\" class=\"dataframe\">\n",
       "  <thead>\n",
       "    <tr style=\"text-align: right;\">\n",
       "      <th></th>\n",
       "      <th>set_num</th>\n",
       "      <th>name</th>\n",
       "      <th>year</th>\n",
       "      <th>theme_id</th>\n",
       "      <th>num_parts</th>\n",
       "    </tr>\n",
       "  </thead>\n",
       "  <tbody>\n",
       "    <tr>\n",
       "      <th>0</th>\n",
       "      <td>001-1</td>\n",
       "      <td>Gears</td>\n",
       "      <td>1965</td>\n",
       "      <td>1</td>\n",
       "      <td>43</td>\n",
       "    </tr>\n",
       "    <tr>\n",
       "      <th>1</th>\n",
       "      <td>0011-2</td>\n",
       "      <td>Town Mini-Figures</td>\n",
       "      <td>1978</td>\n",
       "      <td>84</td>\n",
       "      <td>12</td>\n",
       "    </tr>\n",
       "    <tr>\n",
       "      <th>2</th>\n",
       "      <td>0011-3</td>\n",
       "      <td>Castle 2 for 1 Bonus Offer</td>\n",
       "      <td>1987</td>\n",
       "      <td>199</td>\n",
       "      <td>0</td>\n",
       "    </tr>\n",
       "    <tr>\n",
       "      <th>3</th>\n",
       "      <td>0012-1</td>\n",
       "      <td>Space Mini-Figures</td>\n",
       "      <td>1979</td>\n",
       "      <td>143</td>\n",
       "      <td>12</td>\n",
       "    </tr>\n",
       "    <tr>\n",
       "      <th>4</th>\n",
       "      <td>0013-1</td>\n",
       "      <td>Space Mini-Figures</td>\n",
       "      <td>1979</td>\n",
       "      <td>143</td>\n",
       "      <td>12</td>\n",
       "    </tr>\n",
       "    <tr>\n",
       "      <th>...</th>\n",
       "      <td>...</td>\n",
       "      <td>...</td>\n",
       "      <td>...</td>\n",
       "      <td>...</td>\n",
       "      <td>...</td>\n",
       "    </tr>\n",
       "    <tr>\n",
       "      <th>15705</th>\n",
       "      <td>wwgp1-1</td>\n",
       "      <td>Wild West Limited Edition Gift Pack</td>\n",
       "      <td>1996</td>\n",
       "      <td>476</td>\n",
       "      <td>0</td>\n",
       "    </tr>\n",
       "    <tr>\n",
       "      <th>15706</th>\n",
       "      <td>XMASTREE-1</td>\n",
       "      <td>Christmas Tree</td>\n",
       "      <td>2019</td>\n",
       "      <td>410</td>\n",
       "      <td>26</td>\n",
       "    </tr>\n",
       "    <tr>\n",
       "      <th>15707</th>\n",
       "      <td>XWING-1</td>\n",
       "      <td>Mini X-Wing Fighter</td>\n",
       "      <td>2019</td>\n",
       "      <td>158</td>\n",
       "      <td>60</td>\n",
       "    </tr>\n",
       "    <tr>\n",
       "      <th>15708</th>\n",
       "      <td>XWING-2</td>\n",
       "      <td>X-Wing Trench Run</td>\n",
       "      <td>2019</td>\n",
       "      <td>158</td>\n",
       "      <td>52</td>\n",
       "    </tr>\n",
       "    <tr>\n",
       "      <th>15709</th>\n",
       "      <td>YODACHRON-1</td>\n",
       "      <td>Yoda Chronicles Promotional Set</td>\n",
       "      <td>2013</td>\n",
       "      <td>158</td>\n",
       "      <td>413</td>\n",
       "    </tr>\n",
       "  </tbody>\n",
       "</table>\n",
       "<p>15710 rows × 5 columns</p>\n",
       "</div>"
      ],
      "text/plain": [
       "           set_num                                 name  year  theme_id  \\\n",
       "0            001-1                                Gears  1965         1   \n",
       "1           0011-2                    Town Mini-Figures  1978        84   \n",
       "2           0011-3           Castle 2 for 1 Bonus Offer  1987       199   \n",
       "3           0012-1                   Space Mini-Figures  1979       143   \n",
       "4           0013-1                   Space Mini-Figures  1979       143   \n",
       "...            ...                                  ...   ...       ...   \n",
       "15705      wwgp1-1  Wild West Limited Edition Gift Pack  1996       476   \n",
       "15706   XMASTREE-1                       Christmas Tree  2019       410   \n",
       "15707      XWING-1                  Mini X-Wing Fighter  2019       158   \n",
       "15708      XWING-2                    X-Wing Trench Run  2019       158   \n",
       "15709  YODACHRON-1      Yoda Chronicles Promotional Set  2013       158   \n",
       "\n",
       "       num_parts  \n",
       "0             43  \n",
       "1             12  \n",
       "2              0  \n",
       "3             12  \n",
       "4             12  \n",
       "...          ...  \n",
       "15705          0  \n",
       "15706         26  \n",
       "15707         60  \n",
       "15708         52  \n",
       "15709        413  \n",
       "\n",
       "[15710 rows x 5 columns]"
      ]
     },
     "execution_count": 8,
     "metadata": {},
     "output_type": "execute_result"
    }
   ],
   "source": [
    "sets"
   ]
  },
  {
   "cell_type": "code",
   "execution_count": null,
   "metadata": {
    "colab": {},
    "colab_type": "code",
    "id": "XprDBmzwIquk"
   },
   "outputs": [],
   "source": []
  },
  {
   "cell_type": "markdown",
   "metadata": {
    "colab_type": "text",
    "id": "ez-UXSMUIqum"
   },
   "source": [
    "**Challenge**: In which year were the first LEGO sets released and what were these sets called?"
   ]
  },
  {
   "cell_type": "code",
   "execution_count": 38,
   "metadata": {
    "colab": {},
    "colab_type": "code",
    "id": "s2aL6qrGIqum"
   },
   "outputs": [
    {
     "data": {
      "text/plain": [
       "set_num               21160-1\n",
       "name         The Illager Raid\n",
       "year                     2020\n",
       "theme_id                  577\n",
       "num_parts                 560\n",
       "Name: 1941, dtype: object"
      ]
     },
     "execution_count": 38,
     "metadata": {},
     "output_type": "execute_result"
    }
   ],
   "source": [
    "f"
   ]
  },
  {
   "cell_type": "code",
   "execution_count": 5,
   "metadata": {},
   "outputs": [
    {
     "ename": "NameError",
     "evalue": "name 'sets' is not defined",
     "output_type": "error",
     "traceback": [
      "\u001b[0;31m---------------------------------------------------------------------------\u001b[0m",
      "\u001b[0;31mNameError\u001b[0m                                 Traceback (most recent call last)",
      "Input \u001b[0;32mIn [5]\u001b[0m, in \u001b[0;36m<cell line: 1>\u001b[0;34m()\u001b[0m\n\u001b[0;32m----> 1\u001b[0m first_set \u001b[38;5;241m=\u001b[39m \u001b[43msets\u001b[49m\u001b[38;5;241m.\u001b[39mloc[sets[\u001b[38;5;124m'\u001b[39m\u001b[38;5;124myear\u001b[39m\u001b[38;5;124m'\u001b[39m] \u001b[38;5;241m==\u001b[39m sets[\u001b[38;5;124m'\u001b[39m\u001b[38;5;124myear\u001b[39m\u001b[38;5;124m'\u001b[39m]\u001b[38;5;241m.\u001b[39mmin()]\n\u001b[1;32m      2\u001b[0m first_year \u001b[38;5;241m=\u001b[39m sets[\u001b[38;5;124m'\u001b[39m\u001b[38;5;124myear\u001b[39m\u001b[38;5;124m'\u001b[39m]\u001b[38;5;241m.\u001b[39mmin()\n\u001b[1;32m      3\u001b[0m series \u001b[38;5;241m=\u001b[39m first_set[\u001b[38;5;124m'\u001b[39m\u001b[38;5;124mname\u001b[39m\u001b[38;5;124m'\u001b[39m]\u001b[38;5;241m.\u001b[39msize\n",
      "\u001b[0;31mNameError\u001b[0m: name 'sets' is not defined"
     ]
    }
   ],
   "source": [
    "first_set = sets.loc[sets['year'] == sets['year'].min()]\n",
    "first_year = sets['year'].min()\n",
    "series = first_set['name'].size"
   ]
  },
  {
   "cell_type": "markdown",
   "metadata": {
    "colab_type": "text",
    "id": "JJoK3M8TBAVU"
   },
   "source": [
    "**Challenge**: How many different sets did LEGO sell in their first year? How many types of LEGO products were on offer in the year the company started?"
   ]
  },
  {
   "cell_type": "code",
   "execution_count": 46,
   "metadata": {
    "colab": {},
    "colab_type": "code",
    "id": "h-Tf1w7IBBg9"
   },
   "outputs": [
    {
     "data": {
      "text/plain": [
       "5"
      ]
     },
     "execution_count": 46,
     "metadata": {},
     "output_type": "execute_result"
    }
   ],
   "source": [
    "sets['year'].tolist().count(sets['year'].min())"
   ]
  },
  {
   "cell_type": "markdown",
   "metadata": {
    "colab_type": "text",
    "id": "RJMMYQYqIquo"
   },
   "source": [
    "**Challenge**: Find the top 5 LEGO sets with the most number of parts. "
   ]
  },
  {
   "cell_type": "code",
   "execution_count": 93,
   "metadata": {
    "colab": {},
    "colab_type": "code",
    "id": "toJvjRuQIqup"
   },
   "outputs": [
    {
     "data": {
      "text/html": [
       "<div>\n",
       "<style scoped>\n",
       "    .dataframe tbody tr th:only-of-type {\n",
       "        vertical-align: middle;\n",
       "    }\n",
       "\n",
       "    .dataframe tbody tr th {\n",
       "        vertical-align: top;\n",
       "    }\n",
       "\n",
       "    .dataframe thead th {\n",
       "        text-align: right;\n",
       "    }\n",
       "</style>\n",
       "<table border=\"1\" class=\"dataframe\">\n",
       "  <thead>\n",
       "    <tr style=\"text-align: right;\">\n",
       "      <th></th>\n",
       "      <th>set_num</th>\n",
       "      <th>name</th>\n",
       "      <th>year</th>\n",
       "      <th>theme_id</th>\n",
       "      <th>num_parts</th>\n",
       "    </tr>\n",
       "  </thead>\n",
       "  <tbody>\n",
       "    <tr>\n",
       "      <th>15004</th>\n",
       "      <td>BIGBOX-1</td>\n",
       "      <td>The Ultimate Battle for Chima</td>\n",
       "      <td>2015</td>\n",
       "      <td>571</td>\n",
       "      <td>9987</td>\n",
       "    </tr>\n",
       "    <tr>\n",
       "      <th>11183</th>\n",
       "      <td>75192-1</td>\n",
       "      <td>UCS Millennium Falcon</td>\n",
       "      <td>2017</td>\n",
       "      <td>171</td>\n",
       "      <td>7541</td>\n",
       "    </tr>\n",
       "    <tr>\n",
       "      <th>10551</th>\n",
       "      <td>71043-1</td>\n",
       "      <td>Hogwarts Castle</td>\n",
       "      <td>2018</td>\n",
       "      <td>246</td>\n",
       "      <td>6020</td>\n",
       "    </tr>\n",
       "    <tr>\n",
       "      <th>295</th>\n",
       "      <td>10256-1</td>\n",
       "      <td>Taj Mahal</td>\n",
       "      <td>2017</td>\n",
       "      <td>673</td>\n",
       "      <td>5923</td>\n",
       "    </tr>\n",
       "    <tr>\n",
       "      <th>221</th>\n",
       "      <td>10189-1</td>\n",
       "      <td>Taj Mahal</td>\n",
       "      <td>2008</td>\n",
       "      <td>673</td>\n",
       "      <td>5922</td>\n",
       "    </tr>\n",
       "    <tr>\n",
       "      <th>11471</th>\n",
       "      <td>75978-1</td>\n",
       "      <td>Diagon Alley</td>\n",
       "      <td>2020</td>\n",
       "      <td>246</td>\n",
       "      <td>5547</td>\n",
       "    </tr>\n",
       "    <tr>\n",
       "      <th>15612</th>\n",
       "      <td>SWMP-1</td>\n",
       "      <td>Star Wars / M&amp;M Mosaic - Promo Set</td>\n",
       "      <td>2005</td>\n",
       "      <td>158</td>\n",
       "      <td>5462</td>\n",
       "    </tr>\n",
       "    <tr>\n",
       "      <th>1689</th>\n",
       "      <td>2000409-1</td>\n",
       "      <td>Window Exploration Bag</td>\n",
       "      <td>2010</td>\n",
       "      <td>507</td>\n",
       "      <td>5200</td>\n",
       "    </tr>\n",
       "    <tr>\n",
       "      <th>212</th>\n",
       "      <td>10179-1</td>\n",
       "      <td>Millennium Falcon - UCS</td>\n",
       "      <td>2007</td>\n",
       "      <td>171</td>\n",
       "      <td>5195</td>\n",
       "    </tr>\n",
       "    <tr>\n",
       "      <th>9805</th>\n",
       "      <td>70620-1</td>\n",
       "      <td>NINJAGO City</td>\n",
       "      <td>2017</td>\n",
       "      <td>616</td>\n",
       "      <td>4873</td>\n",
       "    </tr>\n",
       "    <tr>\n",
       "      <th>11253</th>\n",
       "      <td>75252-1</td>\n",
       "      <td>Imperial Star Destroyer</td>\n",
       "      <td>2019</td>\n",
       "      <td>171</td>\n",
       "      <td>4784</td>\n",
       "    </tr>\n",
       "    <tr>\n",
       "      <th>11368</th>\n",
       "      <td>75827-1</td>\n",
       "      <td>Firehouse Headquarters</td>\n",
       "      <td>2016</td>\n",
       "      <td>607</td>\n",
       "      <td>4642</td>\n",
       "    </tr>\n",
       "    <tr>\n",
       "      <th>4470</th>\n",
       "      <td>40179-1</td>\n",
       "      <td>Personalised Mosaic Portrait</td>\n",
       "      <td>2016</td>\n",
       "      <td>277</td>\n",
       "      <td>4502</td>\n",
       "    </tr>\n",
       "    <tr>\n",
       "      <th>248</th>\n",
       "      <td>10214-1</td>\n",
       "      <td>Tower Bridge</td>\n",
       "      <td>2010</td>\n",
       "      <td>673</td>\n",
       "      <td>4295</td>\n",
       "    </tr>\n",
       "    <tr>\n",
       "      <th>292</th>\n",
       "      <td>10253-1</td>\n",
       "      <td>Big Ben</td>\n",
       "      <td>2016</td>\n",
       "      <td>673</td>\n",
       "      <td>4167</td>\n",
       "    </tr>\n",
       "    <tr>\n",
       "      <th>301</th>\n",
       "      <td>10261-1</td>\n",
       "      <td>Roller Coaster</td>\n",
       "      <td>2018</td>\n",
       "      <td>673</td>\n",
       "      <td>4124</td>\n",
       "    </tr>\n",
       "    <tr>\n",
       "      <th>5513</th>\n",
       "      <td>42100-1</td>\n",
       "      <td>Liebherr R 9800 Excavator</td>\n",
       "      <td>2019</td>\n",
       "      <td>7</td>\n",
       "      <td>4108</td>\n",
       "    </tr>\n",
       "    <tr>\n",
       "      <th>10548</th>\n",
       "      <td>71040-1</td>\n",
       "      <td>Disney Castle</td>\n",
       "      <td>2016</td>\n",
       "      <td>608</td>\n",
       "      <td>4081</td>\n",
       "    </tr>\n",
       "    <tr>\n",
       "      <th>5496</th>\n",
       "      <td>42082-1</td>\n",
       "      <td>Rough Terrain Crane</td>\n",
       "      <td>2018</td>\n",
       "      <td>5</td>\n",
       "      <td>4079</td>\n",
       "    </tr>\n",
       "    <tr>\n",
       "      <th>11145</th>\n",
       "      <td>75159-1</td>\n",
       "      <td>Death Star</td>\n",
       "      <td>2016</td>\n",
       "      <td>171</td>\n",
       "      <td>4024</td>\n",
       "    </tr>\n",
       "    <tr>\n",
       "      <th>294</th>\n",
       "      <td>10255-1</td>\n",
       "      <td>Assembly Square</td>\n",
       "      <td>2017</td>\n",
       "      <td>155</td>\n",
       "      <td>4002</td>\n",
       "    </tr>\n",
       "    <tr>\n",
       "      <th>5464</th>\n",
       "      <td>42055-1</td>\n",
       "      <td>Bucket Wheel Excavator</td>\n",
       "      <td>2016</td>\n",
       "      <td>7</td>\n",
       "      <td>3929</td>\n",
       "    </tr>\n",
       "    <tr>\n",
       "      <th>313</th>\n",
       "      <td>10272-1</td>\n",
       "      <td>Old Trafford - Manchester United</td>\n",
       "      <td>2020</td>\n",
       "      <td>673</td>\n",
       "      <td>3898</td>\n",
       "    </tr>\n",
       "    <tr>\n",
       "      <th>220</th>\n",
       "      <td>10188-1</td>\n",
       "      <td>Death Star</td>\n",
       "      <td>2008</td>\n",
       "      <td>171</td>\n",
       "      <td>3814</td>\n",
       "    </tr>\n",
       "    <tr>\n",
       "      <th>5531</th>\n",
       "      <td>42115-1</td>\n",
       "      <td>Lamborghini Sián FKP 37</td>\n",
       "      <td>2020</td>\n",
       "      <td>1</td>\n",
       "      <td>3696</td>\n",
       "    </tr>\n",
       "    <tr>\n",
       "      <th>2006</th>\n",
       "      <td>21323-1</td>\n",
       "      <td>Grand Piano</td>\n",
       "      <td>2020</td>\n",
       "      <td>576</td>\n",
       "      <td>3662</td>\n",
       "    </tr>\n",
       "    <tr>\n",
       "      <th>5497</th>\n",
       "      <td>42083-1</td>\n",
       "      <td>Bugatti Chiron</td>\n",
       "      <td>2018</td>\n",
       "      <td>12</td>\n",
       "      <td>3599</td>\n",
       "    </tr>\n",
       "    <tr>\n",
       "      <th>9843</th>\n",
       "      <td>70657-1</td>\n",
       "      <td>Ninjago City Docks</td>\n",
       "      <td>2018</td>\n",
       "      <td>616</td>\n",
       "      <td>3555</td>\n",
       "    </tr>\n",
       "    <tr>\n",
       "      <th>177</th>\n",
       "      <td>10143-1</td>\n",
       "      <td>Death Star II</td>\n",
       "      <td>2005</td>\n",
       "      <td>171</td>\n",
       "      <td>3460</td>\n",
       "    </tr>\n",
       "    <tr>\n",
       "      <th>10028</th>\n",
       "      <td>70922-1</td>\n",
       "      <td>The Joker Manor</td>\n",
       "      <td>2017</td>\n",
       "      <td>708</td>\n",
       "      <td>3443</td>\n",
       "    </tr>\n",
       "  </tbody>\n",
       "</table>\n",
       "</div>"
      ],
      "text/plain": [
       "         set_num                                name  year  theme_id  \\\n",
       "15004   BIGBOX-1       The Ultimate Battle for Chima  2015       571   \n",
       "11183    75192-1               UCS Millennium Falcon  2017       171   \n",
       "10551    71043-1                     Hogwarts Castle  2018       246   \n",
       "295      10256-1                           Taj Mahal  2017       673   \n",
       "221      10189-1                           Taj Mahal  2008       673   \n",
       "11471    75978-1                        Diagon Alley  2020       246   \n",
       "15612     SWMP-1  Star Wars / M&M Mosaic - Promo Set  2005       158   \n",
       "1689   2000409-1              Window Exploration Bag  2010       507   \n",
       "212      10179-1             Millennium Falcon - UCS  2007       171   \n",
       "9805     70620-1                        NINJAGO City  2017       616   \n",
       "11253    75252-1             Imperial Star Destroyer  2019       171   \n",
       "11368    75827-1              Firehouse Headquarters  2016       607   \n",
       "4470     40179-1        Personalised Mosaic Portrait  2016       277   \n",
       "248      10214-1                        Tower Bridge  2010       673   \n",
       "292      10253-1                             Big Ben  2016       673   \n",
       "301      10261-1                      Roller Coaster  2018       673   \n",
       "5513     42100-1           Liebherr R 9800 Excavator  2019         7   \n",
       "10548    71040-1                       Disney Castle  2016       608   \n",
       "5496     42082-1                 Rough Terrain Crane  2018         5   \n",
       "11145    75159-1                          Death Star  2016       171   \n",
       "294      10255-1                     Assembly Square  2017       155   \n",
       "5464     42055-1              Bucket Wheel Excavator  2016         7   \n",
       "313      10272-1    Old Trafford - Manchester United  2020       673   \n",
       "220      10188-1                          Death Star  2008       171   \n",
       "5531     42115-1             Lamborghini Sián FKP 37  2020         1   \n",
       "2006     21323-1                         Grand Piano  2020       576   \n",
       "5497     42083-1                      Bugatti Chiron  2018        12   \n",
       "9843     70657-1                  Ninjago City Docks  2018       616   \n",
       "177      10143-1                       Death Star II  2005       171   \n",
       "10028    70922-1                     The Joker Manor  2017       708   \n",
       "\n",
       "       num_parts  \n",
       "15004       9987  \n",
       "11183       7541  \n",
       "10551       6020  \n",
       "295         5923  \n",
       "221         5922  \n",
       "11471       5547  \n",
       "15612       5462  \n",
       "1689        5200  \n",
       "212         5195  \n",
       "9805        4873  \n",
       "11253       4784  \n",
       "11368       4642  \n",
       "4470        4502  \n",
       "248         4295  \n",
       "292         4167  \n",
       "301         4124  \n",
       "5513        4108  \n",
       "10548       4081  \n",
       "5496        4079  \n",
       "11145       4024  \n",
       "294         4002  \n",
       "5464        3929  \n",
       "313         3898  \n",
       "220         3814  \n",
       "5531        3696  \n",
       "2006        3662  \n",
       "5497        3599  \n",
       "9843        3555  \n",
       "177         3460  \n",
       "10028       3443  "
      ]
     },
     "execution_count": 93,
     "metadata": {},
     "output_type": "execute_result"
    }
   ],
   "source": [
    "sets.sort_values(by=['num_parts'],  ascending=False).head(30)\n",
    "\n",
    "# https://pandas.pydata.org/docs/reference/api/pandas.DataFrame.sort_values.html"
   ]
  },
  {
   "cell_type": "markdown",
   "metadata": {
    "colab_type": "text",
    "id": "uSyhOzAHIqur"
   },
   "source": [
    "**Challenge**: Use <code>.groupby()</code> and <code>.count()</code> to show the number of LEGO sets released year-on-year. How do the number of sets released in 1955 compare to the number of sets released in 2019? "
   ]
  },
  {
   "cell_type": "code",
   "execution_count": 94,
   "metadata": {
    "colab": {},
    "colab_type": "code",
    "id": "qjdrktZAIqus",
    "scrolled": true
   },
   "outputs": [
    {
     "data": {
      "text/html": [
       "<div>\n",
       "<style scoped>\n",
       "    .dataframe tbody tr th:only-of-type {\n",
       "        vertical-align: middle;\n",
       "    }\n",
       "\n",
       "    .dataframe tbody tr th {\n",
       "        vertical-align: top;\n",
       "    }\n",
       "\n",
       "    .dataframe thead th {\n",
       "        text-align: right;\n",
       "    }\n",
       "</style>\n",
       "<table border=\"1\" class=\"dataframe\">\n",
       "  <thead>\n",
       "    <tr style=\"text-align: right;\">\n",
       "      <th></th>\n",
       "      <th>theme_id</th>\n",
       "      <th>num_parts</th>\n",
       "    </tr>\n",
       "    <tr>\n",
       "      <th>year</th>\n",
       "      <th></th>\n",
       "      <th></th>\n",
       "    </tr>\n",
       "  </thead>\n",
       "  <tbody>\n",
       "    <tr>\n",
       "      <th>1949</th>\n",
       "      <td>1837</td>\n",
       "      <td>498</td>\n",
       "    </tr>\n",
       "    <tr>\n",
       "      <th>1950</th>\n",
       "      <td>2226</td>\n",
       "      <td>6</td>\n",
       "    </tr>\n",
       "    <tr>\n",
       "      <th>1953</th>\n",
       "      <td>1479</td>\n",
       "      <td>54</td>\n",
       "    </tr>\n",
       "    <tr>\n",
       "      <th>1954</th>\n",
       "      <td>5196</td>\n",
       "      <td>173</td>\n",
       "    </tr>\n",
       "    <tr>\n",
       "      <th>1955</th>\n",
       "      <td>10519</td>\n",
       "      <td>1025</td>\n",
       "    </tr>\n",
       "    <tr>\n",
       "      <th>...</th>\n",
       "      <td>...</td>\n",
       "      <td>...</td>\n",
       "    </tr>\n",
       "    <tr>\n",
       "      <th>2017</th>\n",
       "      <td>380864</td>\n",
       "      <td>174367</td>\n",
       "    </tr>\n",
       "    <tr>\n",
       "      <th>2018</th>\n",
       "      <td>387187</td>\n",
       "      <td>174313</td>\n",
       "    </tr>\n",
       "    <tr>\n",
       "      <th>2019</th>\n",
       "      <td>405847</td>\n",
       "      <td>174309</td>\n",
       "    </tr>\n",
       "    <tr>\n",
       "      <th>2020</th>\n",
       "      <td>325939</td>\n",
       "      <td>175060</td>\n",
       "    </tr>\n",
       "    <tr>\n",
       "      <th>2021</th>\n",
       "      <td>2067</td>\n",
       "      <td>0</td>\n",
       "    </tr>\n",
       "  </tbody>\n",
       "</table>\n",
       "<p>71 rows × 2 columns</p>\n",
       "</div>"
      ],
      "text/plain": [
       "      theme_id  num_parts\n",
       "year                     \n",
       "1949      1837        498\n",
       "1950      2226          6\n",
       "1953      1479         54\n",
       "1954      5196        173\n",
       "1955     10519       1025\n",
       "...        ...        ...\n",
       "2017    380864     174367\n",
       "2018    387187     174313\n",
       "2019    405847     174309\n",
       "2020    325939     175060\n",
       "2021      2067          0\n",
       "\n",
       "[71 rows x 2 columns]"
      ]
     },
     "execution_count": 94,
     "metadata": {},
     "output_type": "execute_result"
    }
   ],
   "source": [
    "grouped_byear = sets.groupby('year').sum()\n",
    "grouped_byear"
   ]
  },
  {
   "cell_type": "code",
   "execution_count": 87,
   "metadata": {},
   "outputs": [
    {
     "data": {
      "text/plain": [
       "theme_id     405847\n",
       "num_parts    174309\n",
       "Name: 2019, dtype: int64"
      ]
     },
     "execution_count": 87,
     "metadata": {},
     "output_type": "execute_result"
    }
   ],
   "source": [
    "grouped_byear.index\n",
    "grouped_byear.loc[2019] # how to show one row"
   ]
  },
  {
   "cell_type": "markdown",
   "metadata": {
    "colab": {},
    "colab_type": "code",
    "id": "tFInsHOkIqut"
   },
   "source": [
    "# compear two row "
   ]
  },
  {
   "cell_type": "code",
   "execution_count": 96,
   "metadata": {},
   "outputs": [
    {
     "data": {
      "text/plain": [
       "theme_id     405847\n",
       "num_parts    174309\n",
       "Name: 2019, dtype: int64"
      ]
     },
     "execution_count": 96,
     "metadata": {},
     "output_type": "execute_result"
    }
   ],
   "source": [
    "grouped_byear.loc[2019]"
   ]
  },
  {
   "cell_type": "code",
   "execution_count": 97,
   "metadata": {},
   "outputs": [
    {
     "data": {
      "text/plain": [
       "theme_id     10519\n",
       "num_parts     1025\n",
       "Name: 1955, dtype: int64"
      ]
     },
     "execution_count": 97,
     "metadata": {},
     "output_type": "execute_result"
    }
   ],
   "source": [
    "grouped_byear.loc[1955]"
   ]
  },
  {
   "cell_type": "code",
   "execution_count": 95,
   "metadata": {},
   "outputs": [
    {
     "data": {
      "text/html": [
       "<div>\n",
       "<style scoped>\n",
       "    .dataframe tbody tr th:only-of-type {\n",
       "        vertical-align: middle;\n",
       "    }\n",
       "\n",
       "    .dataframe tbody tr th {\n",
       "        vertical-align: top;\n",
       "    }\n",
       "\n",
       "    .dataframe thead th {\n",
       "        text-align: right;\n",
       "    }\n",
       "</style>\n",
       "<table border=\"1\" class=\"dataframe\">\n",
       "  <thead>\n",
       "    <tr style=\"text-align: right;\">\n",
       "      <th></th>\n",
       "      <th>self</th>\n",
       "      <th>other</th>\n",
       "    </tr>\n",
       "  </thead>\n",
       "  <tbody>\n",
       "    <tr>\n",
       "      <th>theme_id</th>\n",
       "      <td>405847</td>\n",
       "      <td>10519</td>\n",
       "    </tr>\n",
       "    <tr>\n",
       "      <th>num_parts</th>\n",
       "      <td>174309</td>\n",
       "      <td>1025</td>\n",
       "    </tr>\n",
       "  </tbody>\n",
       "</table>\n",
       "</div>"
      ],
      "text/plain": [
       "             self  other\n",
       "theme_id   405847  10519\n",
       "num_parts  174309   1025"
      ]
     },
     "execution_count": 95,
     "metadata": {},
     "output_type": "execute_result"
    }
   ],
   "source": [
    "grouped_byear.loc[2019].compare(grouped_byear.loc[1955])"
   ]
  },
  {
   "cell_type": "markdown",
   "metadata": {
    "colab_type": "text",
    "id": "xJrmIOULIquv"
   },
   "source": [
    "**Challenge**: Show the number of LEGO releases on a line chart using Matplotlib. <br>\n",
    "<br>\n",
    "Note that the .csv file is from late 2020, so to plot the full calendar years, you will have to exclude some data from your chart. Can you use the slicing techniques covered in Day 21 to avoid plotting the last two years? The same syntax will work on Pandas DataFrames. "
   ]
  },
  {
   "cell_type": "code",
   "execution_count": 112,
   "metadata": {
    "colab": {},
    "colab_type": "code",
    "id": "Nckj4lSGIquw"
   },
   "outputs": [
    {
     "data": {
      "text/plain": [
       "year\n",
       "1949      5\n",
       "1950      6\n",
       "1953      4\n",
       "1954     14\n",
       "1955     28\n",
       "       ... \n",
       "2017    786\n",
       "2018    816\n",
       "2019    840\n",
       "2020    674\n",
       "2021      3\n",
       "Length: 71, dtype: int64"
      ]
     },
     "execution_count": 112,
     "metadata": {},
     "output_type": "execute_result"
    }
   ],
   "source": [
    "sets.sort_values(by=['year'],  ascending=True)"
   ]
  },
  {
   "cell_type": "markdown",
   "metadata": {},
   "source": [
    "# How to Count Duplicates in Pandas DataFrame\n",
    "\n",
    "https://datatofish.com/count-duplicates-pandas/"
   ]
  },
  {
   "cell_type": "code",
   "execution_count": 141,
   "metadata": {
    "colab": {},
    "colab_type": "code",
    "id": "_ZqAN-5MIquz"
   },
   "outputs": [],
   "source": [
    "main_data = sets.pivot_table(columns=['year'], aggfunc='size') # from link in above\n",
    "date_list = main_data.index \n",
    "year_list = date_list[:len(date_list)-1:] # as x-axis in chart\n",
    "\n",
    "\n",
    "# not a very good way"
   ]
  },
  {
   "cell_type": "code",
   "execution_count": 142,
   "metadata": {},
   "outputs": [
    {
     "data": {
      "text/html": [
       "<div>\n",
       "<style scoped>\n",
       "    .dataframe tbody tr th:only-of-type {\n",
       "        vertical-align: middle;\n",
       "    }\n",
       "\n",
       "    .dataframe tbody tr th {\n",
       "        vertical-align: top;\n",
       "    }\n",
       "\n",
       "    .dataframe thead th {\n",
       "        text-align: right;\n",
       "    }\n",
       "</style>\n",
       "<table border=\"1\" class=\"dataframe\">\n",
       "  <thead>\n",
       "    <tr style=\"text-align: right;\">\n",
       "      <th></th>\n",
       "      <th>set_num</th>\n",
       "      <th>name</th>\n",
       "      <th>theme_id</th>\n",
       "      <th>num_parts</th>\n",
       "    </tr>\n",
       "    <tr>\n",
       "      <th>year</th>\n",
       "      <th></th>\n",
       "      <th></th>\n",
       "      <th></th>\n",
       "      <th></th>\n",
       "    </tr>\n",
       "  </thead>\n",
       "  <tbody>\n",
       "    <tr>\n",
       "      <th>1949</th>\n",
       "      <td>5</td>\n",
       "      <td>5</td>\n",
       "      <td>5</td>\n",
       "      <td>5</td>\n",
       "    </tr>\n",
       "    <tr>\n",
       "      <th>1950</th>\n",
       "      <td>6</td>\n",
       "      <td>6</td>\n",
       "      <td>6</td>\n",
       "      <td>6</td>\n",
       "    </tr>\n",
       "    <tr>\n",
       "      <th>1953</th>\n",
       "      <td>4</td>\n",
       "      <td>4</td>\n",
       "      <td>4</td>\n",
       "      <td>4</td>\n",
       "    </tr>\n",
       "    <tr>\n",
       "      <th>1954</th>\n",
       "      <td>14</td>\n",
       "      <td>14</td>\n",
       "      <td>14</td>\n",
       "      <td>14</td>\n",
       "    </tr>\n",
       "    <tr>\n",
       "      <th>1955</th>\n",
       "      <td>28</td>\n",
       "      <td>28</td>\n",
       "      <td>28</td>\n",
       "      <td>28</td>\n",
       "    </tr>\n",
       "    <tr>\n",
       "      <th>...</th>\n",
       "      <td>...</td>\n",
       "      <td>...</td>\n",
       "      <td>...</td>\n",
       "      <td>...</td>\n",
       "    </tr>\n",
       "    <tr>\n",
       "      <th>2017</th>\n",
       "      <td>786</td>\n",
       "      <td>786</td>\n",
       "      <td>786</td>\n",
       "      <td>786</td>\n",
       "    </tr>\n",
       "    <tr>\n",
       "      <th>2018</th>\n",
       "      <td>816</td>\n",
       "      <td>816</td>\n",
       "      <td>816</td>\n",
       "      <td>816</td>\n",
       "    </tr>\n",
       "    <tr>\n",
       "      <th>2019</th>\n",
       "      <td>840</td>\n",
       "      <td>840</td>\n",
       "      <td>840</td>\n",
       "      <td>840</td>\n",
       "    </tr>\n",
       "    <tr>\n",
       "      <th>2020</th>\n",
       "      <td>674</td>\n",
       "      <td>674</td>\n",
       "      <td>674</td>\n",
       "      <td>674</td>\n",
       "    </tr>\n",
       "    <tr>\n",
       "      <th>2021</th>\n",
       "      <td>3</td>\n",
       "      <td>3</td>\n",
       "      <td>3</td>\n",
       "      <td>3</td>\n",
       "    </tr>\n",
       "  </tbody>\n",
       "</table>\n",
       "<p>71 rows × 4 columns</p>\n",
       "</div>"
      ],
      "text/plain": [
       "      set_num  name  theme_id  num_parts\n",
       "year                                    \n",
       "1949        5     5         5          5\n",
       "1950        6     6         6          6\n",
       "1953        4     4         4          4\n",
       "1954       14    14        14         14\n",
       "1955       28    28        28         28\n",
       "...       ...   ...       ...        ...\n",
       "2017      786   786       786        786\n",
       "2018      816   816       816        816\n",
       "2019      840   840       840        840\n",
       "2020      674   674       674        674\n",
       "2021        3     3         3          3\n",
       "\n",
       "[71 rows x 4 columns]"
      ]
     },
     "execution_count": 142,
     "metadata": {},
     "output_type": "execute_result"
    }
   ],
   "source": [
    "set_by_year = sets.groupby('year').count()\n",
    "set_by_year"
   ]
  },
  {
   "cell_type": "code",
   "execution_count": null,
   "metadata": {},
   "outputs": [],
   "source": []
  },
  {
   "cell_type": "code",
   "execution_count": null,
   "metadata": {},
   "outputs": [],
   "source": []
  },
  {
   "cell_type": "markdown",
   "metadata": {},
   "source": [
    "# now we find number of lego release for each year \n",
    "# we should draw a year-model using matpotlib"
   ]
  },
  {
   "cell_type": "code",
   "execution_count": 152,
   "metadata": {
    "scrolled": false
   },
   "outputs": [
    {
     "data": {
      "text/plain": [
       "<matplotlib.legend.Legend at 0x7f2e18ee4e50>"
      ]
     },
     "execution_count": 152,
     "metadata": {},
     "output_type": "execute_result"
    },
    {
     "data": {
      "image/png": "[encoded data removed]",
      "text/plain": [
       "<Figure size 1080x720 with 1 Axes>"
      ]
     },
     "metadata": {
      "needs_background": "light"
     },
     "output_type": "display_data"
    }
   ],
   "source": [
    "import matplotlib.pyplot as plt\n",
    "import numpy as np\n",
    "\n",
    "plt.style.use('_mpl-gallery')\n",
    "\n",
    "\n",
    "# plot\n",
    "fig, ax = plt.subplots(figsize=(15,10))\n",
    "plt.xticks(rotation=0)\n",
    "\n",
    "# chart name\n",
    "plt.title(\"number of lego releses form 1949-2020 \")\n",
    "\n",
    "# axis names \n",
    "plt.xlabel('year')\n",
    "plt.ylabel('number of releases')\n",
    "\n",
    "\n",
    "\n",
    "\n",
    "plt.plot(set_by_year.index[:-2:] , set_by_year['set_num'][:-2:] , color='orange' ,linewidth=3.0, label=\"Lego\", linestyle='dashed', marker='o')\n",
    "\n",
    "\n",
    "plt.legend() # name for each line "
   ]
  },
  {
   "cell_type": "code",
   "execution_count": 158,
   "metadata": {},
   "outputs": [
    {
     "data": {
      "text/html": [
       "<div>\n",
       "<style scoped>\n",
       "    .dataframe tbody tr th:only-of-type {\n",
       "        vertical-align: middle;\n",
       "    }\n",
       "\n",
       "    .dataframe tbody tr th {\n",
       "        vertical-align: top;\n",
       "    }\n",
       "\n",
       "    .dataframe thead th {\n",
       "        text-align: right;\n",
       "    }\n",
       "</style>\n",
       "<table border=\"1\" class=\"dataframe\">\n",
       "  <thead>\n",
       "    <tr style=\"text-align: right;\">\n",
       "      <th></th>\n",
       "      <th>set_num</th>\n",
       "      <th>name</th>\n",
       "      <th>year</th>\n",
       "      <th>theme_id</th>\n",
       "      <th>num_parts</th>\n",
       "    </tr>\n",
       "  </thead>\n",
       "  <tbody>\n",
       "    <tr>\n",
       "      <th>0</th>\n",
       "      <td>001-1</td>\n",
       "      <td>Gears</td>\n",
       "      <td>1965</td>\n",
       "      <td>1</td>\n",
       "      <td>43</td>\n",
       "    </tr>\n",
       "    <tr>\n",
       "      <th>1</th>\n",
       "      <td>0011-2</td>\n",
       "      <td>Town Mini-Figures</td>\n",
       "      <td>1978</td>\n",
       "      <td>84</td>\n",
       "      <td>12</td>\n",
       "    </tr>\n",
       "    <tr>\n",
       "      <th>2</th>\n",
       "      <td>0011-3</td>\n",
       "      <td>Castle 2 for 1 Bonus Offer</td>\n",
       "      <td>1987</td>\n",
       "      <td>199</td>\n",
       "      <td>0</td>\n",
       "    </tr>\n",
       "    <tr>\n",
       "      <th>3</th>\n",
       "      <td>0012-1</td>\n",
       "      <td>Space Mini-Figures</td>\n",
       "      <td>1979</td>\n",
       "      <td>143</td>\n",
       "      <td>12</td>\n",
       "    </tr>\n",
       "    <tr>\n",
       "      <th>4</th>\n",
       "      <td>0013-1</td>\n",
       "      <td>Space Mini-Figures</td>\n",
       "      <td>1979</td>\n",
       "      <td>143</td>\n",
       "      <td>12</td>\n",
       "    </tr>\n",
       "    <tr>\n",
       "      <th>...</th>\n",
       "      <td>...</td>\n",
       "      <td>...</td>\n",
       "      <td>...</td>\n",
       "      <td>...</td>\n",
       "      <td>...</td>\n",
       "    </tr>\n",
       "    <tr>\n",
       "      <th>15705</th>\n",
       "      <td>wwgp1-1</td>\n",
       "      <td>Wild West Limited Edition Gift Pack</td>\n",
       "      <td>1996</td>\n",
       "      <td>476</td>\n",
       "      <td>0</td>\n",
       "    </tr>\n",
       "    <tr>\n",
       "      <th>15706</th>\n",
       "      <td>XMASTREE-1</td>\n",
       "      <td>Christmas Tree</td>\n",
       "      <td>2019</td>\n",
       "      <td>410</td>\n",
       "      <td>26</td>\n",
       "    </tr>\n",
       "    <tr>\n",
       "      <th>15707</th>\n",
       "      <td>XWING-1</td>\n",
       "      <td>Mini X-Wing Fighter</td>\n",
       "      <td>2019</td>\n",
       "      <td>158</td>\n",
       "      <td>60</td>\n",
       "    </tr>\n",
       "    <tr>\n",
       "      <th>15708</th>\n",
       "      <td>XWING-2</td>\n",
       "      <td>X-Wing Trench Run</td>\n",
       "      <td>2019</td>\n",
       "      <td>158</td>\n",
       "      <td>52</td>\n",
       "    </tr>\n",
       "    <tr>\n",
       "      <th>15709</th>\n",
       "      <td>YODACHRON-1</td>\n",
       "      <td>Yoda Chronicles Promotional Set</td>\n",
       "      <td>2013</td>\n",
       "      <td>158</td>\n",
       "      <td>413</td>\n",
       "    </tr>\n",
       "  </tbody>\n",
       "</table>\n",
       "<p>15710 rows × 5 columns</p>\n",
       "</div>"
      ],
      "text/plain": [
       "           set_num                                 name  year  theme_id  \\\n",
       "0            001-1                                Gears  1965         1   \n",
       "1           0011-2                    Town Mini-Figures  1978        84   \n",
       "2           0011-3           Castle 2 for 1 Bonus Offer  1987       199   \n",
       "3           0012-1                   Space Mini-Figures  1979       143   \n",
       "4           0013-1                   Space Mini-Figures  1979       143   \n",
       "...            ...                                  ...   ...       ...   \n",
       "15705      wwgp1-1  Wild West Limited Edition Gift Pack  1996       476   \n",
       "15706   XMASTREE-1                       Christmas Tree  2019       410   \n",
       "15707      XWING-1                  Mini X-Wing Fighter  2019       158   \n",
       "15708      XWING-2                    X-Wing Trench Run  2019       158   \n",
       "15709  YODACHRON-1      Yoda Chronicles Promotional Set  2013       158   \n",
       "\n",
       "       num_parts  \n",
       "0             43  \n",
       "1             12  \n",
       "2              0  \n",
       "3             12  \n",
       "4             12  \n",
       "...          ...  \n",
       "15705          0  \n",
       "15706         26  \n",
       "15707         60  \n",
       "15708         52  \n",
       "15709        413  \n",
       "\n",
       "[15710 rows x 5 columns]"
      ]
     },
     "execution_count": 158,
     "metadata": {},
     "output_type": "execute_result"
    }
   ],
   "source": [
    "sets"
   ]
  },
  {
   "cell_type": "markdown",
   "metadata": {
    "colab_type": "text",
    "id": "xrDeNYYXIqu1"
   },
   "source": [
    "### Aggregate Data with the Python .agg() Function\n",
    "\n",
    "Let's work out the number of different themes shipped by year. This means we have to count the number of unique theme_ids per calendar year."
   ]
  },
  {
   "cell_type": "code",
   "execution_count": 163,
   "metadata": {
    "colab": {},
    "colab_type": "code",
    "dc": {
     "key": "266a3f390c"
    },
    "id": "qx8pTau4Iqu2",
    "tags": [
     "sample_code"
    ]
   },
   "outputs": [
    {
     "data": {
      "text/html": [
       "<div>\n",
       "<style scoped>\n",
       "    .dataframe tbody tr th:only-of-type {\n",
       "        vertical-align: middle;\n",
       "    }\n",
       "\n",
       "    .dataframe tbody tr th {\n",
       "        vertical-align: top;\n",
       "    }\n",
       "\n",
       "    .dataframe thead th {\n",
       "        text-align: right;\n",
       "    }\n",
       "</style>\n",
       "<table border=\"1\" class=\"dataframe\">\n",
       "  <thead>\n",
       "    <tr style=\"text-align: right;\">\n",
       "      <th></th>\n",
       "      <th>set_num</th>\n",
       "      <th>name</th>\n",
       "      <th>theme_id</th>\n",
       "      <th>num_parts</th>\n",
       "    </tr>\n",
       "    <tr>\n",
       "      <th>year</th>\n",
       "      <th></th>\n",
       "      <th></th>\n",
       "      <th></th>\n",
       "      <th></th>\n",
       "    </tr>\n",
       "  </thead>\n",
       "  <tbody>\n",
       "    <tr>\n",
       "      <th>1949</th>\n",
       "      <td>5</td>\n",
       "      <td>5</td>\n",
       "      <td>2</td>\n",
       "      <td>4</td>\n",
       "    </tr>\n",
       "    <tr>\n",
       "      <th>1950</th>\n",
       "      <td>6</td>\n",
       "      <td>6</td>\n",
       "      <td>1</td>\n",
       "      <td>1</td>\n",
       "    </tr>\n",
       "    <tr>\n",
       "      <th>1953</th>\n",
       "      <td>4</td>\n",
       "      <td>4</td>\n",
       "      <td>2</td>\n",
       "      <td>4</td>\n",
       "    </tr>\n",
       "    <tr>\n",
       "      <th>1954</th>\n",
       "      <td>14</td>\n",
       "      <td>13</td>\n",
       "      <td>2</td>\n",
       "      <td>5</td>\n",
       "    </tr>\n",
       "    <tr>\n",
       "      <th>1955</th>\n",
       "      <td>28</td>\n",
       "      <td>27</td>\n",
       "      <td>4</td>\n",
       "      <td>22</td>\n",
       "    </tr>\n",
       "    <tr>\n",
       "      <th>...</th>\n",
       "      <td>...</td>\n",
       "      <td>...</td>\n",
       "      <td>...</td>\n",
       "      <td>...</td>\n",
       "    </tr>\n",
       "    <tr>\n",
       "      <th>2017</th>\n",
       "      <td>786</td>\n",
       "      <td>760</td>\n",
       "      <td>89</td>\n",
       "      <td>325</td>\n",
       "    </tr>\n",
       "    <tr>\n",
       "      <th>2018</th>\n",
       "      <td>816</td>\n",
       "      <td>799</td>\n",
       "      <td>93</td>\n",
       "      <td>339</td>\n",
       "    </tr>\n",
       "    <tr>\n",
       "      <th>2019</th>\n",
       "      <td>840</td>\n",
       "      <td>825</td>\n",
       "      <td>78</td>\n",
       "      <td>336</td>\n",
       "    </tr>\n",
       "    <tr>\n",
       "      <th>2020</th>\n",
       "      <td>674</td>\n",
       "      <td>664</td>\n",
       "      <td>82</td>\n",
       "      <td>320</td>\n",
       "    </tr>\n",
       "    <tr>\n",
       "      <th>2021</th>\n",
       "      <td>3</td>\n",
       "      <td>3</td>\n",
       "      <td>1</td>\n",
       "      <td>1</td>\n",
       "    </tr>\n",
       "  </tbody>\n",
       "</table>\n",
       "<p>71 rows × 4 columns</p>\n",
       "</div>"
      ],
      "text/plain": [
       "      set_num  name  theme_id  num_parts\n",
       "year                                    \n",
       "1949        5     5         2          4\n",
       "1950        6     6         1          1\n",
       "1953        4     4         2          4\n",
       "1954       14    13         2          5\n",
       "1955       28    27         4         22\n",
       "...       ...   ...       ...        ...\n",
       "2017      786   760        89        325\n",
       "2018      816   799        93        339\n",
       "2019      840   825        78        336\n",
       "2020      674   664        82        320\n",
       "2021        3     3         1          1\n",
       "\n",
       "[71 rows x 4 columns]"
      ]
     },
     "execution_count": 163,
     "metadata": {},
     "output_type": "execute_result"
    }
   ],
   "source": [
    "set_theme_per_year = sets.groupby('year').nunique('theme_id')\n",
    "set_theme_per_year"
   ]
  },
  {
   "cell_type": "code",
   "execution_count": 166,
   "metadata": {
    "colab": {},
    "colab_type": "code",
    "id": "BqF1o997Iqu3"
   },
   "outputs": [
    {
     "data": {
      "text/plain": [
       "Int64Index([1949, 1950, 1953, 1954, 1955, 1956, 1957, 1958, 1959, 1960, 1961,\n",
       "            1962, 1963, 1964, 1965, 1966, 1967, 1968, 1969, 1970, 1971, 1972,\n",
       "            1973, 1974, 1975, 1976, 1977, 1978, 1979, 1980, 1981, 1982, 1983,\n",
       "            1984, 1985, 1986, 1987, 1988, 1989, 1990, 1991, 1992, 1993, 1994,\n",
       "            1995, 1996, 1997, 1998, 1999, 2000, 2001, 2002, 2003, 2004, 2005,\n",
       "            2006, 2007, 2008, 2009, 2010, 2011, 2012, 2013, 2014, 2015, 2016,\n",
       "            2017, 2018, 2019, 2020],\n",
       "           dtype='int64', name='year')"
      ]
     },
     "execution_count": 166,
     "metadata": {},
     "output_type": "execute_result"
    }
   ],
   "source": [
    "year_axis = set_theme_per_year.index[:-1:]\n",
    "year_axis"
   ]
  },
  {
   "cell_type": "code",
   "execution_count": 169,
   "metadata": {},
   "outputs": [
    {
     "data": {
      "text/plain": [
       "year\n",
       "1949     2\n",
       "1950     1\n",
       "1953     2\n",
       "1954     2\n",
       "1955     4\n",
       "        ..\n",
       "2016    92\n",
       "2017    89\n",
       "2018    93\n",
       "2019    78\n",
       "2020    82\n",
       "Name: theme_id, Length: 70, dtype: int64"
      ]
     },
     "execution_count": 169,
     "metadata": {},
     "output_type": "execute_result"
    }
   ],
   "source": [
    "theme_axis = set_theme_per_year['theme_id'][:-1:]\n",
    "theme_axis"
   ]
  },
  {
   "cell_type": "code",
   "execution_count": 170,
   "metadata": {},
   "outputs": [
    {
     "data": {
      "text/plain": [
       "<matplotlib.legend.Legend at 0x7f2e1cd76ec0>"
      ]
     },
     "execution_count": 170,
     "metadata": {},
     "output_type": "execute_result"
    },
    {
     "data": {
      "image/png": "[encoded data removed]",
      "text/plain": [
       "<Figure size 1080x720 with 1 Axes>"
      ]
     },
     "metadata": {
      "needs_background": "light"
     },
     "output_type": "display_data"
    }
   ],
   "source": [
    "import matplotlib.pyplot as plt\n",
    "import numpy as np\n",
    "\n",
    "plt.style.use('_mpl-gallery')\n",
    "\n",
    "# data \n",
    "x_axis = set_theme_per_year.index[:-1:]\n",
    "y_axis = set_theme_per_year['theme_id'][:-1:]\n",
    "\n",
    "\n",
    "# plot\n",
    "fig, ax = plt.subplots(figsize=(15,10))\n",
    "plt.xticks(rotation=0)\n",
    "\n",
    "# chart name\n",
    "plt.title(\"number of lego releses form 1949-2020 \")\n",
    "\n",
    "# axis names \n",
    "plt.xlabel('year')\n",
    "plt.ylabel('number of theme')\n",
    "\n",
    "\n",
    "\n",
    "\n",
    "plt.plot(x_axis , y_axis , color='red' ,linewidth=3.0, label=\"Lego\", linestyle='dashed', marker='o')\n",
    "\n",
    "\n",
    "plt.legend() # name for each line "
   ]
  },
  {
   "cell_type": "markdown",
   "metadata": {
    "colab_type": "text",
    "id": "immCqqw1Iqu5"
   },
   "source": [
    "**Challenge**: Plot the number of themes released by year on a line chart. Only include the full calendar years (i.e., exclude 2020 and 2021). "
   ]
  },
  {
   "cell_type": "markdown",
   "metadata": {
    "colab": {},
    "colab_type": "code",
    "id": "r2pamQEkIqu5"
   },
   "source": [
    "DONE./\\"
   ]
  },
  {
   "cell_type": "markdown",
   "metadata": {
    "colab_type": "text",
    "id": "uBbt9-lJIqu7"
   },
   "source": [
    "### Line Charts with Two Seperate Axes"
   ]
  },
  {
   "cell_type": "code",
   "execution_count": null,
   "metadata": {
    "colab": {},
    "colab_type": "code",
    "id": "j7lQ_amFIqu7"
   },
   "outputs": [],
   "source": []
  },
  {
   "cell_type": "markdown",
   "metadata": {
    "colab_type": "text",
    "id": "7BHYaUf-Iqu9"
   },
   "source": [
    "**Challenge**: Use the <code>.groupby()</code> and <code>.agg()</code> function together to figure out the average number of parts per set. How many parts did the average LEGO set released in 1954 compared to say, 2017?"
   ]
  },
  {
   "cell_type": "markdown",
   "metadata": {},
   "source": [
    "Often you find yourself needing to summarise data. This is where the .groupby() function comes in really handy. However, sometimes you want to run even more operations based on a particular DataFrame column. This is where the .agg() method comes in.\n",
    "\n",
    "In our case, we want to calculate the number of different themes by calendar year. This means we have to group the data by year and then count the number of unique theme_ids for that year.\n",
    "\n",
    "Number of Themes per Calendar Year\n",
    "\n",
    "We can accomplish this by chaining the .groupby() and the .agg() functions together:"
   ]
  },
  {
   "cell_type": "markdown",
   "metadata": {},
   "source": [
    "## themes_by_year = sets.groupby('year').agg({'theme_id' : pd.Series.nunique})"
   ]
  },
  {
   "cell_type": "markdown",
   "metadata": {},
   "source": [
    "Note, the .agg() method takes a dictionary as an argument. In this dictionary, we specify which operation we'd like to apply to each column. In our case, we just want to calculate the number of unique entries in the theme_id column by using our old friend, the .nunique() method.\n",
    "\n",
    "Let's give our column in themes_by_year a more appropriate name and let's take a look at what we've got:"
   ]
  },
  {
   "cell_type": "code",
   "execution_count": null,
   "metadata": {},
   "outputs": [],
   "source": []
  },
  {
   "cell_type": "code",
   "execution_count": null,
   "metadata": {},
   "outputs": [],
   "source": []
  },
  {
   "cell_type": "code",
   "execution_count": null,
   "metadata": {},
   "outputs": [],
   "source": []
  },
  {
   "cell_type": "code",
   "execution_count": 177,
   "metadata": {
    "colab": {},
    "colab_type": "code",
    "id": "W7BcH9vuIqu9"
   },
   "outputs": [
    {
     "data": {
      "text/html": [
       "<div>\n",
       "<style scoped>\n",
       "    .dataframe tbody tr th:only-of-type {\n",
       "        vertical-align: middle;\n",
       "    }\n",
       "\n",
       "    .dataframe tbody tr th {\n",
       "        vertical-align: top;\n",
       "    }\n",
       "\n",
       "    .dataframe thead th {\n",
       "        text-align: right;\n",
       "    }\n",
       "</style>\n",
       "<table border=\"1\" class=\"dataframe\">\n",
       "  <thead>\n",
       "    <tr style=\"text-align: right;\">\n",
       "      <th></th>\n",
       "      <th>theme_id</th>\n",
       "      <th>num_parts</th>\n",
       "    </tr>\n",
       "    <tr>\n",
       "      <th>year</th>\n",
       "      <th></th>\n",
       "      <th></th>\n",
       "    </tr>\n",
       "  </thead>\n",
       "  <tbody>\n",
       "    <tr>\n",
       "      <th>1949</th>\n",
       "      <td>1837</td>\n",
       "      <td>498</td>\n",
       "    </tr>\n",
       "    <tr>\n",
       "      <th>1950</th>\n",
       "      <td>2226</td>\n",
       "      <td>6</td>\n",
       "    </tr>\n",
       "    <tr>\n",
       "      <th>1953</th>\n",
       "      <td>1479</td>\n",
       "      <td>54</td>\n",
       "    </tr>\n",
       "    <tr>\n",
       "      <th>1954</th>\n",
       "      <td>5196</td>\n",
       "      <td>173</td>\n",
       "    </tr>\n",
       "    <tr>\n",
       "      <th>1955</th>\n",
       "      <td>10519</td>\n",
       "      <td>1025</td>\n",
       "    </tr>\n",
       "    <tr>\n",
       "      <th>...</th>\n",
       "      <td>...</td>\n",
       "      <td>...</td>\n",
       "    </tr>\n",
       "    <tr>\n",
       "      <th>2017</th>\n",
       "      <td>380864</td>\n",
       "      <td>174367</td>\n",
       "    </tr>\n",
       "    <tr>\n",
       "      <th>2018</th>\n",
       "      <td>387187</td>\n",
       "      <td>174313</td>\n",
       "    </tr>\n",
       "    <tr>\n",
       "      <th>2019</th>\n",
       "      <td>405847</td>\n",
       "      <td>174309</td>\n",
       "    </tr>\n",
       "    <tr>\n",
       "      <th>2020</th>\n",
       "      <td>325939</td>\n",
       "      <td>175060</td>\n",
       "    </tr>\n",
       "    <tr>\n",
       "      <th>2021</th>\n",
       "      <td>2067</td>\n",
       "      <td>0</td>\n",
       "    </tr>\n",
       "  </tbody>\n",
       "</table>\n",
       "<p>71 rows × 2 columns</p>\n",
       "</div>"
      ],
      "text/plain": [
       "      theme_id  num_parts\n",
       "year                     \n",
       "1949      1837        498\n",
       "1950      2226          6\n",
       "1953      1479         54\n",
       "1954      5196        173\n",
       "1955     10519       1025\n",
       "...        ...        ...\n",
       "2017    380864     174367\n",
       "2018    387187     174313\n",
       "2019    405847     174309\n",
       "2020    325939     175060\n",
       "2021      2067          0\n",
       "\n",
       "[71 rows x 2 columns]"
      ]
     },
     "execution_count": 177,
     "metadata": {},
     "output_type": "execute_result"
    }
   ],
   "source": [
    "sets.groupby('year').sum()\n"
   ]
  },
  {
   "cell_type": "code",
   "execution_count": null,
   "metadata": {
    "colab": {},
    "colab_type": "code",
    "id": "fjbb3tZcIqu_"
   },
   "outputs": [],
   "source": []
  },
  {
   "cell_type": "markdown",
   "metadata": {
    "colab_type": "text",
    "id": "bAeTe2XqIqvB"
   },
   "source": [
    "### Scatter Plots in Matplotlib"
   ]
  },
  {
   "cell_type": "markdown",
   "metadata": {
    "colab_type": "text",
    "id": "SAViZ_TYIqvB"
   },
   "source": [
    "**Challenge**: Has the size and complexity of LEGO sets increased over time based on the number of parts? Plot the average number of parts over time using a Matplotlib scatter plot. See if you can use the [scatter plot documentation](https://matplotlib.org/3.1.0/api/_as_gen/matplotlib.pyplot.scatter.html) before I show you the solution. Do you spot a trend in the chart? "
   ]
  },
  {
   "cell_type": "markdown",
   "metadata": {},
   "source": [
    "https://sparkbyexamples.com/pandas/pandas-get-column-average-mean/ # for getting average in pandas"
   ]
  },
  {
   "cell_type": "markdown",
   "metadata": {},
   "source": [
    "# Below are quick example\n",
    "# Using DataFrame.mean() method to get column average\n",
    "df2 = df[\"Fee\"].mean()\n",
    "\n",
    "# Using DataFrame.mean() to get entire column mean\n",
    "df2 = df.mean()\n",
    "\n",
    "# Using multiple columns mean using DataFrame.mean()\n",
    "df2 = df[[\"Fee\",\"Discount\"]].mean()\n",
    "\n",
    "# Average of each column using DataFrame.mean()\n",
    "df2 = df.mean(axis=0)\n",
    "\n",
    "# Find the mean including NaN values using DataFrame.mean()\n",
    "df2 = df.mean(axis = 0, skipna = False)\n",
    "\n",
    "# Using DataFrame.describe() method\n",
    "df2 = df.describe()"
   ]
  },
  {
   "cell_type": "code",
   "execution_count": 8,
   "metadata": {
    "colab": {},
    "colab_type": "code",
    "id": "EQNZ0D7JIqvB"
   },
   "outputs": [
    {
     "data": {
      "text/html": [
       "<div>\n",
       "<style scoped>\n",
       "    .dataframe tbody tr th:only-of-type {\n",
       "        vertical-align: middle;\n",
       "    }\n",
       "\n",
       "    .dataframe tbody tr th {\n",
       "        vertical-align: top;\n",
       "    }\n",
       "\n",
       "    .dataframe thead th {\n",
       "        text-align: right;\n",
       "    }\n",
       "</style>\n",
       "<table border=\"1\" class=\"dataframe\">\n",
       "  <thead>\n",
       "    <tr style=\"text-align: right;\">\n",
       "      <th></th>\n",
       "      <th>set_num</th>\n",
       "      <th>name</th>\n",
       "      <th>year</th>\n",
       "      <th>theme_id</th>\n",
       "      <th>num_parts</th>\n",
       "    </tr>\n",
       "  </thead>\n",
       "  <tbody>\n",
       "    <tr>\n",
       "      <th>0</th>\n",
       "      <td>001-1</td>\n",
       "      <td>Gears</td>\n",
       "      <td>1965</td>\n",
       "      <td>1</td>\n",
       "      <td>43</td>\n",
       "    </tr>\n",
       "    <tr>\n",
       "      <th>1</th>\n",
       "      <td>0011-2</td>\n",
       "      <td>Town Mini-Figures</td>\n",
       "      <td>1978</td>\n",
       "      <td>84</td>\n",
       "      <td>12</td>\n",
       "    </tr>\n",
       "    <tr>\n",
       "      <th>2</th>\n",
       "      <td>0011-3</td>\n",
       "      <td>Castle 2 for 1 Bonus Offer</td>\n",
       "      <td>1987</td>\n",
       "      <td>199</td>\n",
       "      <td>0</td>\n",
       "    </tr>\n",
       "    <tr>\n",
       "      <th>3</th>\n",
       "      <td>0012-1</td>\n",
       "      <td>Space Mini-Figures</td>\n",
       "      <td>1979</td>\n",
       "      <td>143</td>\n",
       "      <td>12</td>\n",
       "    </tr>\n",
       "    <tr>\n",
       "      <th>4</th>\n",
       "      <td>0013-1</td>\n",
       "      <td>Space Mini-Figures</td>\n",
       "      <td>1979</td>\n",
       "      <td>143</td>\n",
       "      <td>12</td>\n",
       "    </tr>\n",
       "    <tr>\n",
       "      <th>...</th>\n",
       "      <td>...</td>\n",
       "      <td>...</td>\n",
       "      <td>...</td>\n",
       "      <td>...</td>\n",
       "      <td>...</td>\n",
       "    </tr>\n",
       "    <tr>\n",
       "      <th>15705</th>\n",
       "      <td>wwgp1-1</td>\n",
       "      <td>Wild West Limited Edition Gift Pack</td>\n",
       "      <td>1996</td>\n",
       "      <td>476</td>\n",
       "      <td>0</td>\n",
       "    </tr>\n",
       "    <tr>\n",
       "      <th>15706</th>\n",
       "      <td>XMASTREE-1</td>\n",
       "      <td>Christmas Tree</td>\n",
       "      <td>2019</td>\n",
       "      <td>410</td>\n",
       "      <td>26</td>\n",
       "    </tr>\n",
       "    <tr>\n",
       "      <th>15707</th>\n",
       "      <td>XWING-1</td>\n",
       "      <td>Mini X-Wing Fighter</td>\n",
       "      <td>2019</td>\n",
       "      <td>158</td>\n",
       "      <td>60</td>\n",
       "    </tr>\n",
       "    <tr>\n",
       "      <th>15708</th>\n",
       "      <td>XWING-2</td>\n",
       "      <td>X-Wing Trench Run</td>\n",
       "      <td>2019</td>\n",
       "      <td>158</td>\n",
       "      <td>52</td>\n",
       "    </tr>\n",
       "    <tr>\n",
       "      <th>15709</th>\n",
       "      <td>YODACHRON-1</td>\n",
       "      <td>Yoda Chronicles Promotional Set</td>\n",
       "      <td>2013</td>\n",
       "      <td>158</td>\n",
       "      <td>413</td>\n",
       "    </tr>\n",
       "  </tbody>\n",
       "</table>\n",
       "<p>15710 rows × 5 columns</p>\n",
       "</div>"
      ],
      "text/plain": [
       "           set_num                                 name  year  theme_id  \\\n",
       "0            001-1                                Gears  1965         1   \n",
       "1           0011-2                    Town Mini-Figures  1978        84   \n",
       "2           0011-3           Castle 2 for 1 Bonus Offer  1987       199   \n",
       "3           0012-1                   Space Mini-Figures  1979       143   \n",
       "4           0013-1                   Space Mini-Figures  1979       143   \n",
       "...            ...                                  ...   ...       ...   \n",
       "15705      wwgp1-1  Wild West Limited Edition Gift Pack  1996       476   \n",
       "15706   XMASTREE-1                       Christmas Tree  2019       410   \n",
       "15707      XWING-1                  Mini X-Wing Fighter  2019       158   \n",
       "15708      XWING-2                    X-Wing Trench Run  2019       158   \n",
       "15709  YODACHRON-1      Yoda Chronicles Promotional Set  2013       158   \n",
       "\n",
       "       num_parts  \n",
       "0             43  \n",
       "1             12  \n",
       "2              0  \n",
       "3             12  \n",
       "4             12  \n",
       "...          ...  \n",
       "15705          0  \n",
       "15706         26  \n",
       "15707         60  \n",
       "15708         52  \n",
       "15709        413  \n",
       "\n",
       "[15710 rows x 5 columns]"
      ]
     },
     "execution_count": 8,
     "metadata": {},
     "output_type": "execute_result"
    }
   ],
   "source": [
    "sets"
   ]
  },
  {
   "cell_type": "markdown",
   "metadata": {},
   "source": [
    "Once again, we're going to use the .groupby() and the .agg() function together to work this one out. However, this time we pass a dictionary to the .agg() function so that we will target the num_parts column with the mean() function. That way, we group our data by year and then we average the number of parts for that year.\n",
    "\n",
    "parts_per_set = sets.groupby('year').agg({'num_parts': pd.Series.mean})\n",
    "\n",
    "\n"
   ]
  },
  {
   "cell_type": "code",
   "execution_count": 10,
   "metadata": {},
   "outputs": [
    {
     "data": {
      "text/html": [
       "<div>\n",
       "<style scoped>\n",
       "    .dataframe tbody tr th:only-of-type {\n",
       "        vertical-align: middle;\n",
       "    }\n",
       "\n",
       "    .dataframe tbody tr th {\n",
       "        vertical-align: top;\n",
       "    }\n",
       "\n",
       "    .dataframe thead th {\n",
       "        text-align: right;\n",
       "    }\n",
       "</style>\n",
       "<table border=\"1\" class=\"dataframe\">\n",
       "  <thead>\n",
       "    <tr style=\"text-align: right;\">\n",
       "      <th></th>\n",
       "      <th>set_num</th>\n",
       "      <th>name</th>\n",
       "      <th>year</th>\n",
       "      <th>theme_id</th>\n",
       "      <th>num_parts</th>\n",
       "    </tr>\n",
       "  </thead>\n",
       "  <tbody>\n",
       "    <tr>\n",
       "      <th>0</th>\n",
       "      <td>001-1</td>\n",
       "      <td>Gears</td>\n",
       "      <td>1965</td>\n",
       "      <td>1</td>\n",
       "      <td>43</td>\n",
       "    </tr>\n",
       "    <tr>\n",
       "      <th>1</th>\n",
       "      <td>0011-2</td>\n",
       "      <td>Town Mini-Figures</td>\n",
       "      <td>1978</td>\n",
       "      <td>84</td>\n",
       "      <td>12</td>\n",
       "    </tr>\n",
       "    <tr>\n",
       "      <th>2</th>\n",
       "      <td>0011-3</td>\n",
       "      <td>Castle 2 for 1 Bonus Offer</td>\n",
       "      <td>1987</td>\n",
       "      <td>199</td>\n",
       "      <td>0</td>\n",
       "    </tr>\n",
       "    <tr>\n",
       "      <th>3</th>\n",
       "      <td>0012-1</td>\n",
       "      <td>Space Mini-Figures</td>\n",
       "      <td>1979</td>\n",
       "      <td>143</td>\n",
       "      <td>12</td>\n",
       "    </tr>\n",
       "    <tr>\n",
       "      <th>4</th>\n",
       "      <td>0013-1</td>\n",
       "      <td>Space Mini-Figures</td>\n",
       "      <td>1979</td>\n",
       "      <td>143</td>\n",
       "      <td>12</td>\n",
       "    </tr>\n",
       "    <tr>\n",
       "      <th>...</th>\n",
       "      <td>...</td>\n",
       "      <td>...</td>\n",
       "      <td>...</td>\n",
       "      <td>...</td>\n",
       "      <td>...</td>\n",
       "    </tr>\n",
       "    <tr>\n",
       "      <th>15705</th>\n",
       "      <td>wwgp1-1</td>\n",
       "      <td>Wild West Limited Edition Gift Pack</td>\n",
       "      <td>1996</td>\n",
       "      <td>476</td>\n",
       "      <td>0</td>\n",
       "    </tr>\n",
       "    <tr>\n",
       "      <th>15706</th>\n",
       "      <td>XMASTREE-1</td>\n",
       "      <td>Christmas Tree</td>\n",
       "      <td>2019</td>\n",
       "      <td>410</td>\n",
       "      <td>26</td>\n",
       "    </tr>\n",
       "    <tr>\n",
       "      <th>15707</th>\n",
       "      <td>XWING-1</td>\n",
       "      <td>Mini X-Wing Fighter</td>\n",
       "      <td>2019</td>\n",
       "      <td>158</td>\n",
       "      <td>60</td>\n",
       "    </tr>\n",
       "    <tr>\n",
       "      <th>15708</th>\n",
       "      <td>XWING-2</td>\n",
       "      <td>X-Wing Trench Run</td>\n",
       "      <td>2019</td>\n",
       "      <td>158</td>\n",
       "      <td>52</td>\n",
       "    </tr>\n",
       "    <tr>\n",
       "      <th>15709</th>\n",
       "      <td>YODACHRON-1</td>\n",
       "      <td>Yoda Chronicles Promotional Set</td>\n",
       "      <td>2013</td>\n",
       "      <td>158</td>\n",
       "      <td>413</td>\n",
       "    </tr>\n",
       "  </tbody>\n",
       "</table>\n",
       "<p>15710 rows × 5 columns</p>\n",
       "</div>"
      ],
      "text/plain": [
       "           set_num                                 name  year  theme_id  \\\n",
       "0            001-1                                Gears  1965         1   \n",
       "1           0011-2                    Town Mini-Figures  1978        84   \n",
       "2           0011-3           Castle 2 for 1 Bonus Offer  1987       199   \n",
       "3           0012-1                   Space Mini-Figures  1979       143   \n",
       "4           0013-1                   Space Mini-Figures  1979       143   \n",
       "...            ...                                  ...   ...       ...   \n",
       "15705      wwgp1-1  Wild West Limited Edition Gift Pack  1996       476   \n",
       "15706   XMASTREE-1                       Christmas Tree  2019       410   \n",
       "15707      XWING-1                  Mini X-Wing Fighter  2019       158   \n",
       "15708      XWING-2                    X-Wing Trench Run  2019       158   \n",
       "15709  YODACHRON-1      Yoda Chronicles Promotional Set  2013       158   \n",
       "\n",
       "       num_parts  \n",
       "0             43  \n",
       "1             12  \n",
       "2              0  \n",
       "3             12  \n",
       "4             12  \n",
       "...          ...  \n",
       "15705          0  \n",
       "15706         26  \n",
       "15707         60  \n",
       "15708         52  \n",
       "15709        413  \n",
       "\n",
       "[15710 rows x 5 columns]"
      ]
     },
     "execution_count": 10,
     "metadata": {},
     "output_type": "execute_result"
    }
   ],
   "source": [
    "sets"
   ]
  },
  {
   "cell_type": "code",
   "execution_count": 18,
   "metadata": {},
   "outputs": [
    {
     "data": {
      "text/html": [
       "<div>\n",
       "<style scoped>\n",
       "    .dataframe tbody tr th:only-of-type {\n",
       "        vertical-align: middle;\n",
       "    }\n",
       "\n",
       "    .dataframe tbody tr th {\n",
       "        vertical-align: top;\n",
       "    }\n",
       "\n",
       "    .dataframe thead th {\n",
       "        text-align: right;\n",
       "    }\n",
       "</style>\n",
       "<table border=\"1\" class=\"dataframe\">\n",
       "  <thead>\n",
       "    <tr style=\"text-align: right;\">\n",
       "      <th></th>\n",
       "      <th>num_parts</th>\n",
       "    </tr>\n",
       "    <tr>\n",
       "      <th>year</th>\n",
       "      <th></th>\n",
       "    </tr>\n",
       "  </thead>\n",
       "  <tbody>\n",
       "    <tr>\n",
       "      <th>1949</th>\n",
       "      <td>99.600000</td>\n",
       "    </tr>\n",
       "    <tr>\n",
       "      <th>1950</th>\n",
       "      <td>1.000000</td>\n",
       "    </tr>\n",
       "    <tr>\n",
       "      <th>1953</th>\n",
       "      <td>13.500000</td>\n",
       "    </tr>\n",
       "    <tr>\n",
       "      <th>1954</th>\n",
       "      <td>12.357143</td>\n",
       "    </tr>\n",
       "    <tr>\n",
       "      <th>1955</th>\n",
       "      <td>36.607143</td>\n",
       "    </tr>\n",
       "    <tr>\n",
       "      <th>...</th>\n",
       "      <td>...</td>\n",
       "    </tr>\n",
       "    <tr>\n",
       "      <th>2017</th>\n",
       "      <td>221.840967</td>\n",
       "    </tr>\n",
       "    <tr>\n",
       "      <th>2018</th>\n",
       "      <td>213.618873</td>\n",
       "    </tr>\n",
       "    <tr>\n",
       "      <th>2019</th>\n",
       "      <td>207.510714</td>\n",
       "    </tr>\n",
       "    <tr>\n",
       "      <th>2020</th>\n",
       "      <td>259.732938</td>\n",
       "    </tr>\n",
       "    <tr>\n",
       "      <th>2021</th>\n",
       "      <td>0.000000</td>\n",
       "    </tr>\n",
       "  </tbody>\n",
       "</table>\n",
       "<p>71 rows × 1 columns</p>\n",
       "</div>"
      ],
      "text/plain": [
       "       num_parts\n",
       "year            \n",
       "1949   99.600000\n",
       "1950    1.000000\n",
       "1953   13.500000\n",
       "1954   12.357143\n",
       "1955   36.607143\n",
       "...          ...\n",
       "2017  221.840967\n",
       "2018  213.618873\n",
       "2019  207.510714\n",
       "2020  259.732938\n",
       "2021    0.000000\n",
       "\n",
       "[71 rows x 1 columns]"
      ]
     },
     "execution_count": 18,
     "metadata": {},
     "output_type": "execute_result"
    }
   ],
   "source": [
    "part_per_set = sets.groupby('year').agg({'num_parts':pd.Series.mean})\n",
    "part_per_set"
   ]
  },
  {
   "cell_type": "code",
   "execution_count": 19,
   "metadata": {},
   "outputs": [
    {
     "data": {
      "text/plain": [
       "Int64Index([1949, 1950, 1953, 1954, 1955, 1956, 1957, 1958, 1959, 1960, 1961,\n",
       "            1962, 1963, 1964, 1965, 1966, 1967, 1968, 1969, 1970, 1971, 1972,\n",
       "            1973, 1974, 1975, 1976, 1977, 1978, 1979, 1980, 1981, 1982, 1983,\n",
       "            1984, 1985, 1986, 1987, 1988, 1989, 1990, 1991, 1992, 1993, 1994,\n",
       "            1995, 1996, 1997, 1998, 1999, 2000, 2001, 2002, 2003, 2004, 2005,\n",
       "            2006, 2007, 2008, 2009, 2010, 2011, 2012, 2013, 2014, 2015, 2016,\n",
       "            2017, 2018, 2019, 2020, 2021],\n",
       "           dtype='int64', name='year')"
      ]
     },
     "execution_count": 19,
     "metadata": {},
     "output_type": "execute_result"
    }
   ],
   "source": [
    "part_per_set.index"
   ]
  },
  {
   "cell_type": "code",
   "execution_count": 20,
   "metadata": {},
   "outputs": [
    {
     "data": {
      "text/plain": [
       "year\n",
       "1949     99.600000\n",
       "1950      1.000000\n",
       "1953     13.500000\n",
       "1954     12.357143\n",
       "1955     36.607143\n",
       "           ...    \n",
       "2017    221.840967\n",
       "2018    213.618873\n",
       "2019    207.510714\n",
       "2020    259.732938\n",
       "2021      0.000000\n",
       "Name: num_parts, Length: 71, dtype: float64"
      ]
     },
     "execution_count": 20,
     "metadata": {},
     "output_type": "execute_result"
    }
   ],
   "source": [
    "part_per_set.num_parts"
   ]
  },
  {
   "cell_type": "markdown",
   "metadata": {},
   "source": [
    "# draw chart mean numpart per year"
   ]
  },
  {
   "cell_type": "code",
   "execution_count": 26,
   "metadata": {},
   "outputs": [
    {
     "data": {
      "text/plain": [
       "<matplotlib.legend.Legend at 0x7fd7f83af0d0>"
      ]
     },
     "execution_count": 26,
     "metadata": {},
     "output_type": "execute_result"
    },
    {
     "data": {
      "image/png": "[encoded data removed]",
      "text/plain": [
       "<Figure size 1080x720 with 1 Axes>"
      ]
     },
     "metadata": {
      "needs_background": "light"
     },
     "output_type": "display_data"
    }
   ],
   "source": [
    "import matplotlib.pyplot as plt\n",
    "import numpy as np\n",
    "\n",
    "plt.style.use('_mpl-gallery')\n",
    "\n",
    "# data \n",
    "part_per_set = sets.groupby('year').agg({'num_parts':pd.Series.mean})\n",
    "x_axis = part_per_set.index[:-1:]\n",
    "y_axis = part_per_set['num_parts'][:-1:]\n",
    "\n",
    "\n",
    "# plot\n",
    "fig, ax = plt.subplots(figsize=(15,10))\n",
    "plt.xticks(rotation=0)\n",
    "\n",
    "# chart name\n",
    "plt.title(\"number of lego parts form 1949-2020 \")\n",
    "\n",
    "# axis names \n",
    "plt.xlabel('year')\n",
    "plt.ylabel('part_per_sets')\n",
    "\n",
    "\n",
    "\n",
    "\n",
    "plt.scatter(x_axis , y_axis , color='red' ,linewidth=2.0, label=\"Lego\")\n",
    "\n",
    "\n",
    "plt.legend() # name for each line "
   ]
  },
  {
   "cell_type": "markdown",
   "metadata": {
    "colab_type": "text",
    "id": "xK226Ip-IqvE"
   },
   "source": [
    "### Number of Sets per LEGO Theme"
   ]
  },
  {
   "cell_type": "markdown",
   "metadata": {
    "colab_type": "text",
    "id": "VKHa1FePIqvE"
   },
   "source": [
    "LEGO has licensed many hit franchises from Harry Potter to Marvel Super Heros to many others. But which theme has the largest number of individual sets? "
   ]
  },
  {
   "cell_type": "code",
   "execution_count": 23,
   "metadata": {
    "colab": {},
    "colab_type": "code",
    "id": "hOBcNrC9IqvE"
   },
   "outputs": [
    {
     "data": {
      "text/html": [
       "<div>\n",
       "<style scoped>\n",
       "    .dataframe tbody tr th:only-of-type {\n",
       "        vertical-align: middle;\n",
       "    }\n",
       "\n",
       "    .dataframe tbody tr th {\n",
       "        vertical-align: top;\n",
       "    }\n",
       "\n",
       "    .dataframe thead th {\n",
       "        text-align: right;\n",
       "    }\n",
       "</style>\n",
       "<table border=\"1\" class=\"dataframe\">\n",
       "  <thead>\n",
       "    <tr style=\"text-align: right;\">\n",
       "      <th></th>\n",
       "      <th>set_num</th>\n",
       "      <th>name</th>\n",
       "      <th>year</th>\n",
       "      <th>theme_id</th>\n",
       "      <th>num_parts</th>\n",
       "    </tr>\n",
       "  </thead>\n",
       "  <tbody>\n",
       "    <tr>\n",
       "      <th>0</th>\n",
       "      <td>001-1</td>\n",
       "      <td>Gears</td>\n",
       "      <td>1965</td>\n",
       "      <td>1</td>\n",
       "      <td>43</td>\n",
       "    </tr>\n",
       "    <tr>\n",
       "      <th>1</th>\n",
       "      <td>0011-2</td>\n",
       "      <td>Town Mini-Figures</td>\n",
       "      <td>1978</td>\n",
       "      <td>84</td>\n",
       "      <td>12</td>\n",
       "    </tr>\n",
       "    <tr>\n",
       "      <th>2</th>\n",
       "      <td>0011-3</td>\n",
       "      <td>Castle 2 for 1 Bonus Offer</td>\n",
       "      <td>1987</td>\n",
       "      <td>199</td>\n",
       "      <td>0</td>\n",
       "    </tr>\n",
       "    <tr>\n",
       "      <th>3</th>\n",
       "      <td>0012-1</td>\n",
       "      <td>Space Mini-Figures</td>\n",
       "      <td>1979</td>\n",
       "      <td>143</td>\n",
       "      <td>12</td>\n",
       "    </tr>\n",
       "    <tr>\n",
       "      <th>4</th>\n",
       "      <td>0013-1</td>\n",
       "      <td>Space Mini-Figures</td>\n",
       "      <td>1979</td>\n",
       "      <td>143</td>\n",
       "      <td>12</td>\n",
       "    </tr>\n",
       "    <tr>\n",
       "      <th>...</th>\n",
       "      <td>...</td>\n",
       "      <td>...</td>\n",
       "      <td>...</td>\n",
       "      <td>...</td>\n",
       "      <td>...</td>\n",
       "    </tr>\n",
       "    <tr>\n",
       "      <th>15705</th>\n",
       "      <td>wwgp1-1</td>\n",
       "      <td>Wild West Limited Edition Gift Pack</td>\n",
       "      <td>1996</td>\n",
       "      <td>476</td>\n",
       "      <td>0</td>\n",
       "    </tr>\n",
       "    <tr>\n",
       "      <th>15706</th>\n",
       "      <td>XMASTREE-1</td>\n",
       "      <td>Christmas Tree</td>\n",
       "      <td>2019</td>\n",
       "      <td>410</td>\n",
       "      <td>26</td>\n",
       "    </tr>\n",
       "    <tr>\n",
       "      <th>15707</th>\n",
       "      <td>XWING-1</td>\n",
       "      <td>Mini X-Wing Fighter</td>\n",
       "      <td>2019</td>\n",
       "      <td>158</td>\n",
       "      <td>60</td>\n",
       "    </tr>\n",
       "    <tr>\n",
       "      <th>15708</th>\n",
       "      <td>XWING-2</td>\n",
       "      <td>X-Wing Trench Run</td>\n",
       "      <td>2019</td>\n",
       "      <td>158</td>\n",
       "      <td>52</td>\n",
       "    </tr>\n",
       "    <tr>\n",
       "      <th>15709</th>\n",
       "      <td>YODACHRON-1</td>\n",
       "      <td>Yoda Chronicles Promotional Set</td>\n",
       "      <td>2013</td>\n",
       "      <td>158</td>\n",
       "      <td>413</td>\n",
       "    </tr>\n",
       "  </tbody>\n",
       "</table>\n",
       "<p>15710 rows × 5 columns</p>\n",
       "</div>"
      ],
      "text/plain": [
       "           set_num                                 name  year  theme_id  \\\n",
       "0            001-1                                Gears  1965         1   \n",
       "1           0011-2                    Town Mini-Figures  1978        84   \n",
       "2           0011-3           Castle 2 for 1 Bonus Offer  1987       199   \n",
       "3           0012-1                   Space Mini-Figures  1979       143   \n",
       "4           0013-1                   Space Mini-Figures  1979       143   \n",
       "...            ...                                  ...   ...       ...   \n",
       "15705      wwgp1-1  Wild West Limited Edition Gift Pack  1996       476   \n",
       "15706   XMASTREE-1                       Christmas Tree  2019       410   \n",
       "15707      XWING-1                  Mini X-Wing Fighter  2019       158   \n",
       "15708      XWING-2                    X-Wing Trench Run  2019       158   \n",
       "15709  YODACHRON-1      Yoda Chronicles Promotional Set  2013       158   \n",
       "\n",
       "       num_parts  \n",
       "0             43  \n",
       "1             12  \n",
       "2              0  \n",
       "3             12  \n",
       "4             12  \n",
       "...          ...  \n",
       "15705          0  \n",
       "15706         26  \n",
       "15707         60  \n",
       "15708         52  \n",
       "15709        413  \n",
       "\n",
       "[15710 rows x 5 columns]"
      ]
     },
     "execution_count": 23,
     "metadata": {},
     "output_type": "execute_result"
    }
   ],
   "source": [
    "sets"
   ]
  },
  {
   "cell_type": "markdown",
   "metadata": {},
   "source": [
    "Number of Sets per LEGO Theme\n",
    "\n",
    "To count the number of sets per Theme we can use the .value_counts() method on our theme_id column. But there's one problem:\n"
   ]
  },
  {
   "cell_type": "markdown",
   "metadata": {
    "colab_type": "text",
    "id": "J-i6JULGIqvG"
   },
   "source": [
    "**Challenge** Use what you know about HTML markup and tags to display the database schema: https://i.imgur.com/Sg4lcjx.png"
   ]
  },
  {
   "cell_type": "code",
   "execution_count": 46,
   "metadata": {},
   "outputs": [
    {
     "data": {
      "text/plain": [
       "158    753\n",
       "501    656\n",
       "494    398\n",
       "435    356\n",
       "503    329\n",
       "Name: theme_id, dtype: int64"
      ]
     },
     "execution_count": 46,
     "metadata": {},
     "output_type": "execute_result"
    }
   ],
   "source": [
    "set_part_theme = sets['theme_id'].value_counts()\n",
    "set_part_theme[:5]\n",
    "# first column theme id\n",
    "# seconde column num_parts"
   ]
  },
  {
   "cell_type": "markdown",
   "metadata": {},
   "source": [
    "## as we see bigest num_parts is for set with theme id 158"
   ]
  },
  {
   "cell_type": "code",
   "execution_count": null,
   "metadata": {},
   "outputs": [],
   "source": []
  },
  {
   "cell_type": "code",
   "execution_count": 30,
   "metadata": {},
   "outputs": [
    {
     "name": "stdout",
     "output_type": "stream",
     "text": [
      "[Errno 2] No such file or directory: 'data/'\n",
      "/home/Tomcat/100DAY_OF_PYTHON/DAY73/data\n"
     ]
    }
   ],
   "source": [
    "cd data/\n"
   ]
  },
  {
   "cell_type": "code",
   "execution_count": 31,
   "metadata": {},
   "outputs": [
    {
     "name": "stdout",
     "output_type": "stream",
     "text": [
      "colors.csv  sets.csv  themes.csv\r\n"
     ]
    }
   ],
   "source": [
    "ls"
   ]
  },
  {
   "cell_type": "code",
   "execution_count": 51,
   "metadata": {
    "colab_type": "text",
    "id": "27oDwiPHIqvH"
   },
   "outputs": [
    {
     "data": {
      "text/html": [
       "<div>\n",
       "<style scoped>\n",
       "    .dataframe tbody tr th:only-of-type {\n",
       "        vertical-align: middle;\n",
       "    }\n",
       "\n",
       "    .dataframe tbody tr th {\n",
       "        vertical-align: top;\n",
       "    }\n",
       "\n",
       "    .dataframe thead th {\n",
       "        text-align: right;\n",
       "    }\n",
       "</style>\n",
       "<table border=\"1\" class=\"dataframe\">\n",
       "  <thead>\n",
       "    <tr style=\"text-align: right;\">\n",
       "      <th></th>\n",
       "      <th>id</th>\n",
       "      <th>name</th>\n",
       "      <th>parent_id</th>\n",
       "    </tr>\n",
       "  </thead>\n",
       "  <tbody>\n",
       "    <tr>\n",
       "      <th>150</th>\n",
       "      <td>158</td>\n",
       "      <td>Star Wars</td>\n",
       "      <td>NaN</td>\n",
       "    </tr>\n",
       "  </tbody>\n",
       "</table>\n",
       "</div>"
      ],
      "text/plain": [
       "      id       name  parent_id\n",
       "150  158  Star Wars        NaN"
      ]
     },
     "execution_count": 51,
     "metadata": {},
     "output_type": "execute_result"
    }
   ],
   "source": [
    "themes = pd.read_csv('themes.csv')\n",
    "themes.loc[themes['id']== 158]"
   ]
  },
  {
   "cell_type": "markdown",
   "metadata": {
    "colab_type": "text",
    "id": "J_0iuerKIqvG"
   },
   "source": [
    "### Database Schemas, Foreign Keys and Merging DataFrames\n",
    "\n",
    "The themes.csv file has the actual theme names. The sets .csv has <code>theme_ids</code> which link to the <code>id</code> column in the themes.csv. "
   ]
  },
  {
   "cell_type": "markdown",
   "metadata": {
    "colab_type": "text",
    "id": "cp1tMW6oIqvH"
   },
   "source": [
    "**Challenge**: Explore the themes.csv. How is it structured? Search for the name 'Star Wars'. How many <code>id</code>s correspond to this name in the themes.csv? Now use these <code>id</code>s and find the corresponding the sets in the sets.csv (Hint: you'll need to look for matches in the <code>theme_id</code> column)"
   ]
  },
  {
   "cell_type": "code",
   "execution_count": 58,
   "metadata": {
    "colab": {},
    "colab_type": "code",
    "id": "3uN3wN5sIqvH"
   },
   "outputs": [],
   "source": [
    "selected_theme_id = themes.loc[themes.name == 'Star Wars' ]"
   ]
  },
  {
   "cell_type": "code",
   "execution_count": 60,
   "metadata": {
    "colab": {},
    "colab_type": "code",
    "id": "xAO2XlQGIqvJ"
   },
   "outputs": [
    {
     "name": "stdout",
     "output_type": "stream",
     "text": [
      "       set_num                                name  year  theme_id  num_parts\n",
      "8786   65081-1  R2-D2 / C-3PO Droid Collectors Set  2002        18          1\n",
      "12051   8000-1                           Pit Droid  2000        18        223\n",
      "12058   8001-1                        Battle Droid  2000        18        336\n",
      "12066   8002-1                     Destroyer Droid  2000        18        567\n",
      "12071   8007-1                               C-3PO  2001        18        339\n",
      "12072   8008-1                        Stormtrooper  2001        18        360\n",
      "12073   8009-1                               R2-D2  2002        18        239\n",
      "12074   8010-1                         Darth Vader  2002        18        388\n",
      "12081   8011-1                          Jango Fett  2002        18        425\n",
      "12083   8012-1                  Super Battle Droid  2002        18        378\n",
      "15273  K8008-1      Darth Vader / Stormtrooper Kit  2002        18          0\n",
      "           set_num                                               name  year  \\\n",
      "850        11912-1                Star Wars: Build Your Own Adventure  2016   \n",
      "855        11920-1  Parts for Star Wars Build Your Own Adventure: ...  2019   \n",
      "1717       20006-1                            Clone Turbo Tank - Mini  2008   \n",
      "1728       20007-1                     Republic Attack Cruiser - Mini  2009   \n",
      "1738       20009-1                                AT-TE Walker - Mini  2009   \n",
      "...            ...                                                ...   ...   \n",
      "15686         VP-4            Star Wars Co-Pack of 7101 7111 and 7171  2000   \n",
      "15689         VP-8                 Star Wars Co-Pack of 7130 and 7150  2000   \n",
      "15707      XWING-1                                Mini X-Wing Fighter  2019   \n",
      "15708      XWING-2                                  X-Wing Trench Run  2019   \n",
      "15709  YODACHRON-1                    Yoda Chronicles Promotional Set  2013   \n",
      "\n",
      "       theme_id  num_parts  \n",
      "850         158         73  \n",
      "855         158         70  \n",
      "1717        158         64  \n",
      "1728        158         84  \n",
      "1738        158         94  \n",
      "...         ...        ...  \n",
      "15686       158          0  \n",
      "15689       158          0  \n",
      "15707       158         60  \n",
      "15708       158         52  \n",
      "15709       158        413  \n",
      "\n",
      "[753 rows x 5 columns]\n",
      "       set_num                            name  year  theme_id  num_parts\n",
      "11013  75023-1  Star Wars Advent Calendar 2013  2013       209        254\n",
      "11046  75056-1  Star Wars Advent Calendar 2014  2014       209        273\n",
      "11080  75097-1  Star Wars Advent Calendar 2015  2015       209        291\n",
      "11131  75146-1  Star Wars Advent Calendar 2016  2016       209        282\n",
      "11173  75184-1  Star Wars Advent Calendar 2017  2017       209        309\n",
      "11206  75213-1  Star Wars Advent Calendar 2018  2018       209        307\n",
      "11245  75245-1  Star Wars Advent Calendar 2019  2019       209        280\n",
      "11281  75279-1  Star Wars Advent Calendar 2020  2020       209        312\n",
      "12019   7958-1  Star Wars Advent Calendar 2011  2011       209        267\n",
      "14352   9509-1  Star Wars Advent Calendar 2012  2012       209        235\n",
      "      set_num                      name  year  theme_id  num_parts\n",
      "14630  9748-1       Droid Developer Kit  1999       261        658\n",
      "14636  9754-1  Dark Side Developers Kit  2000       261        578\n"
     ]
    }
   ],
   "source": [
    "for theme_id in selected_theme_id['id']:\n",
    "    print(sets.loc[sets['theme_id'] == theme_id])"
   ]
  },
  {
   "cell_type": "code",
   "execution_count": null,
   "metadata": {
    "colab": {},
    "colab_type": "code",
    "id": "xYEDlY-_IqvL"
   },
   "outputs": [],
   "source": []
  },
  {
   "cell_type": "code",
   "execution_count": 62,
   "metadata": {
    "colab": {},
    "colab_type": "code",
    "id": "qBhckawNIqvN",
    "scrolled": true
   },
   "outputs": [
    {
     "data": {
      "text/html": [
       "<div>\n",
       "<style scoped>\n",
       "    .dataframe tbody tr th:only-of-type {\n",
       "        vertical-align: middle;\n",
       "    }\n",
       "\n",
       "    .dataframe tbody tr th {\n",
       "        vertical-align: top;\n",
       "    }\n",
       "\n",
       "    .dataframe thead th {\n",
       "        text-align: right;\n",
       "    }\n",
       "</style>\n",
       "<table border=\"1\" class=\"dataframe\">\n",
       "  <thead>\n",
       "    <tr style=\"text-align: right;\">\n",
       "      <th></th>\n",
       "      <th>id</th>\n",
       "      <th>name</th>\n",
       "      <th>parent_id</th>\n",
       "    </tr>\n",
       "  </thead>\n",
       "  <tbody>\n",
       "    <tr>\n",
       "      <th>0</th>\n",
       "      <td>1</td>\n",
       "      <td>Technic</td>\n",
       "      <td>NaN</td>\n",
       "    </tr>\n",
       "    <tr>\n",
       "      <th>1</th>\n",
       "      <td>2</td>\n",
       "      <td>Arctic Technic</td>\n",
       "      <td>1.0</td>\n",
       "    </tr>\n",
       "    <tr>\n",
       "      <th>2</th>\n",
       "      <td>3</td>\n",
       "      <td>Competition</td>\n",
       "      <td>1.0</td>\n",
       "    </tr>\n",
       "    <tr>\n",
       "      <th>3</th>\n",
       "      <td>4</td>\n",
       "      <td>Expert Builder</td>\n",
       "      <td>1.0</td>\n",
       "    </tr>\n",
       "    <tr>\n",
       "      <th>4</th>\n",
       "      <td>5</td>\n",
       "      <td>Model</td>\n",
       "      <td>1.0</td>\n",
       "    </tr>\n",
       "    <tr>\n",
       "      <th>...</th>\n",
       "      <td>...</td>\n",
       "      <td>...</td>\n",
       "      <td>...</td>\n",
       "    </tr>\n",
       "    <tr>\n",
       "      <th>591</th>\n",
       "      <td>705</td>\n",
       "      <td>Iron Man</td>\n",
       "      <td>696.0</td>\n",
       "    </tr>\n",
       "    <tr>\n",
       "      <th>592</th>\n",
       "      <td>706</td>\n",
       "      <td>Spider-Man</td>\n",
       "      <td>696.0</td>\n",
       "    </tr>\n",
       "    <tr>\n",
       "      <th>593</th>\n",
       "      <td>707</td>\n",
       "      <td>X-Men</td>\n",
       "      <td>696.0</td>\n",
       "    </tr>\n",
       "    <tr>\n",
       "      <th>594</th>\n",
       "      <td>708</td>\n",
       "      <td>The LEGO Batman Movie</td>\n",
       "      <td>697.0</td>\n",
       "    </tr>\n",
       "    <tr>\n",
       "      <th>595</th>\n",
       "      <td>709</td>\n",
       "      <td>LEGO Art</td>\n",
       "      <td>NaN</td>\n",
       "    </tr>\n",
       "  </tbody>\n",
       "</table>\n",
       "<p>596 rows × 3 columns</p>\n",
       "</div>"
      ],
      "text/plain": [
       "      id                   name  parent_id\n",
       "0      1                Technic        NaN\n",
       "1      2         Arctic Technic        1.0\n",
       "2      3            Competition        1.0\n",
       "3      4         Expert Builder        1.0\n",
       "4      5                  Model        1.0\n",
       "..   ...                    ...        ...\n",
       "591  705               Iron Man      696.0\n",
       "592  706             Spider-Man      696.0\n",
       "593  707                  X-Men      696.0\n",
       "594  708  The LEGO Batman Movie      697.0\n",
       "595  709               LEGO Art        NaN\n",
       "\n",
       "[596 rows x 3 columns]"
      ]
     },
     "execution_count": 62,
     "metadata": {},
     "output_type": "execute_result"
    }
   ],
   "source": [
    "themes"
   ]
  },
  {
   "cell_type": "code",
   "execution_count": null,
   "metadata": {
    "colab": {},
    "colab_type": "code",
    "id": "aqt07DSTIqvP",
    "scrolled": true
   },
   "outputs": [],
   "source": []
  },
  {
   "cell_type": "markdown",
   "metadata": {
    "colab_type": "text",
    "id": "SmTCXWKKIqvQ"
   },
   "source": [
    "### Merging (i.e., Combining) DataFrames based on a Key\n"
   ]
  },
  {
   "cell_type": "markdown",
   "metadata": {},
   "source": [
    "## see this for understand"
   ]
  },
  {
   "cell_type": "code",
   "execution_count": 64,
   "metadata": {
    "colab": {},
    "colab_type": "code",
    "id": "esKQULhcIqvR"
   },
   "outputs": [
    {
     "data": {
      "text/html": [
       "<div>\n",
       "<style scoped>\n",
       "    .dataframe tbody tr th:only-of-type {\n",
       "        vertical-align: middle;\n",
       "    }\n",
       "\n",
       "    .dataframe tbody tr th {\n",
       "        vertical-align: top;\n",
       "    }\n",
       "\n",
       "    .dataframe thead th {\n",
       "        text-align: right;\n",
       "    }\n",
       "</style>\n",
       "<table border=\"1\" class=\"dataframe\">\n",
       "  <thead>\n",
       "    <tr style=\"text-align: right;\">\n",
       "      <th></th>\n",
       "      <th>set_num</th>\n",
       "      <th>name</th>\n",
       "      <th>year</th>\n",
       "      <th>theme_id</th>\n",
       "      <th>num_parts</th>\n",
       "    </tr>\n",
       "  </thead>\n",
       "  <tbody>\n",
       "    <tr>\n",
       "      <th>0</th>\n",
       "      <td>001-1</td>\n",
       "      <td>Gears</td>\n",
       "      <td>1965</td>\n",
       "      <td>1</td>\n",
       "      <td>43</td>\n",
       "    </tr>\n",
       "    <tr>\n",
       "      <th>1</th>\n",
       "      <td>041-2</td>\n",
       "      <td>Playhouse</td>\n",
       "      <td>1979</td>\n",
       "      <td>652</td>\n",
       "      <td>1</td>\n",
       "    </tr>\n",
       "    <tr>\n",
       "      <th>2</th>\n",
       "      <td>041-2</td>\n",
       "      <td>Playhouse</td>\n",
       "      <td>1979</td>\n",
       "      <td>652</td>\n",
       "      <td>1</td>\n",
       "    </tr>\n",
       "    <tr>\n",
       "      <th>3</th>\n",
       "      <td>2643-2</td>\n",
       "      <td>Playhouse</td>\n",
       "      <td>1980</td>\n",
       "      <td>652</td>\n",
       "      <td>1</td>\n",
       "    </tr>\n",
       "    <tr>\n",
       "      <th>4</th>\n",
       "      <td>2643-2</td>\n",
       "      <td>Playhouse</td>\n",
       "      <td>1980</td>\n",
       "      <td>652</td>\n",
       "      <td>1</td>\n",
       "    </tr>\n",
       "  </tbody>\n",
       "</table>\n",
       "</div>"
      ],
      "text/plain": [
       "  set_num       name  year  theme_id  num_parts\n",
       "0   001-1      Gears  1965         1         43\n",
       "1   041-2  Playhouse  1979       652          1\n",
       "2   041-2  Playhouse  1979       652          1\n",
       "3  2643-2  Playhouse  1980       652          1\n",
       "4  2643-2  Playhouse  1980       652          1"
      ]
     },
     "execution_count": 64,
     "metadata": {},
     "output_type": "execute_result"
    }
   ],
   "source": [
    "sets.merge(themes['name']).head()"
   ]
  },
  {
   "cell_type": "markdown",
   "metadata": {
    "colab": {},
    "colab_type": "code",
    "id": "i0LobgIvIqvT"
   },
   "source": [
    "### now let's start "
   ]
  },
  {
   "cell_type": "code",
   "execution_count": 76,
   "metadata": {},
   "outputs": [
    {
     "data": {
      "text/plain": [
       "158    753\n",
       "501    656\n",
       "494    398\n",
       "435    356\n",
       "503    329\n",
       "Name: theme_id, dtype: int64"
      ]
     },
     "execution_count": 76,
     "metadata": {},
     "output_type": "execute_result"
    }
   ],
   "source": [
    "set_part_theme = sets['theme_id'].value_counts()\n",
    "set_part_theme[:5]\n",
    "# first column theme id\n",
    "# seconde column num_parts"
   ]
  },
  {
   "cell_type": "code",
   "execution_count": 77,
   "metadata": {},
   "outputs": [
    {
     "data": {
      "text/html": [
       "<div>\n",
       "<style scoped>\n",
       "    .dataframe tbody tr th:only-of-type {\n",
       "        vertical-align: middle;\n",
       "    }\n",
       "\n",
       "    .dataframe tbody tr th {\n",
       "        vertical-align: top;\n",
       "    }\n",
       "\n",
       "    .dataframe thead th {\n",
       "        text-align: right;\n",
       "    }\n",
       "</style>\n",
       "<table border=\"1\" class=\"dataframe\">\n",
       "  <thead>\n",
       "    <tr style=\"text-align: right;\">\n",
       "      <th></th>\n",
       "      <th>id</th>\n",
       "      <th>set_count</th>\n",
       "    </tr>\n",
       "  </thead>\n",
       "  <tbody>\n",
       "    <tr>\n",
       "      <th>0</th>\n",
       "      <td>158</td>\n",
       "      <td>753</td>\n",
       "    </tr>\n",
       "    <tr>\n",
       "      <th>1</th>\n",
       "      <td>501</td>\n",
       "      <td>656</td>\n",
       "    </tr>\n",
       "    <tr>\n",
       "      <th>2</th>\n",
       "      <td>494</td>\n",
       "      <td>398</td>\n",
       "    </tr>\n",
       "    <tr>\n",
       "      <th>3</th>\n",
       "      <td>435</td>\n",
       "      <td>356</td>\n",
       "    </tr>\n",
       "    <tr>\n",
       "      <th>4</th>\n",
       "      <td>503</td>\n",
       "      <td>329</td>\n",
       "    </tr>\n",
       "    <tr>\n",
       "      <th>...</th>\n",
       "      <td>...</td>\n",
       "      <td>...</td>\n",
       "    </tr>\n",
       "    <tr>\n",
       "      <th>566</th>\n",
       "      <td>307</td>\n",
       "      <td>1</td>\n",
       "    </tr>\n",
       "    <tr>\n",
       "      <th>567</th>\n",
       "      <td>215</td>\n",
       "      <td>1</td>\n",
       "    </tr>\n",
       "    <tr>\n",
       "      <th>568</th>\n",
       "      <td>361</td>\n",
       "      <td>1</td>\n",
       "    </tr>\n",
       "    <tr>\n",
       "      <th>569</th>\n",
       "      <td>210</td>\n",
       "      <td>1</td>\n",
       "    </tr>\n",
       "    <tr>\n",
       "      <th>570</th>\n",
       "      <td>414</td>\n",
       "      <td>1</td>\n",
       "    </tr>\n",
       "  </tbody>\n",
       "</table>\n",
       "<p>571 rows × 2 columns</p>\n",
       "</div>"
      ],
      "text/plain": [
       "      id  set_count\n",
       "0    158        753\n",
       "1    501        656\n",
       "2    494        398\n",
       "3    435        356\n",
       "4    503        329\n",
       "..   ...        ...\n",
       "566  307          1\n",
       "567  215          1\n",
       "568  361          1\n",
       "569  210          1\n",
       "570  414          1\n",
       "\n",
       "[571 rows x 2 columns]"
      ]
     },
     "execution_count": 77,
     "metadata": {},
     "output_type": "execute_result"
    }
   ],
   "source": [
    "set_part_theme = pd.DataFrame({'id':set_part_theme.index, 'set_count':set_part_theme.values})\n",
    "set_part_theme"
   ]
  },
  {
   "cell_type": "code",
   "execution_count": 82,
   "metadata": {},
   "outputs": [
    {
     "data": {
      "text/html": [
       "<div>\n",
       "<style scoped>\n",
       "    .dataframe tbody tr th:only-of-type {\n",
       "        vertical-align: middle;\n",
       "    }\n",
       "\n",
       "    .dataframe tbody tr th {\n",
       "        vertical-align: top;\n",
       "    }\n",
       "\n",
       "    .dataframe thead th {\n",
       "        text-align: right;\n",
       "    }\n",
       "</style>\n",
       "<table border=\"1\" class=\"dataframe\">\n",
       "  <thead>\n",
       "    <tr style=\"text-align: right;\">\n",
       "      <th></th>\n",
       "      <th>id</th>\n",
       "      <th>set_count</th>\n",
       "      <th>name</th>\n",
       "      <th>parent_id</th>\n",
       "    </tr>\n",
       "  </thead>\n",
       "  <tbody>\n",
       "    <tr>\n",
       "      <th>0</th>\n",
       "      <td>158</td>\n",
       "      <td>753</td>\n",
       "      <td>Star Wars</td>\n",
       "      <td>NaN</td>\n",
       "    </tr>\n",
       "    <tr>\n",
       "      <th>1</th>\n",
       "      <td>501</td>\n",
       "      <td>656</td>\n",
       "      <td>Gear</td>\n",
       "      <td>NaN</td>\n",
       "    </tr>\n",
       "    <tr>\n",
       "      <th>2</th>\n",
       "      <td>494</td>\n",
       "      <td>398</td>\n",
       "      <td>Friends</td>\n",
       "      <td>NaN</td>\n",
       "    </tr>\n",
       "    <tr>\n",
       "      <th>3</th>\n",
       "      <td>435</td>\n",
       "      <td>356</td>\n",
       "      <td>Ninjago</td>\n",
       "      <td>NaN</td>\n",
       "    </tr>\n",
       "    <tr>\n",
       "      <th>4</th>\n",
       "      <td>503</td>\n",
       "      <td>329</td>\n",
       "      <td>Key Chain</td>\n",
       "      <td>501.0</td>\n",
       "    </tr>\n",
       "    <tr>\n",
       "      <th>5</th>\n",
       "      <td>505</td>\n",
       "      <td>328</td>\n",
       "      <td>Basic Set</td>\n",
       "      <td>504.0</td>\n",
       "    </tr>\n",
       "    <tr>\n",
       "      <th>6</th>\n",
       "      <td>497</td>\n",
       "      <td>310</td>\n",
       "      <td>Books</td>\n",
       "      <td>NaN</td>\n",
       "    </tr>\n",
       "    <tr>\n",
       "      <th>7</th>\n",
       "      <td>632</td>\n",
       "      <td>299</td>\n",
       "      <td>Town</td>\n",
       "      <td>504.0</td>\n",
       "    </tr>\n",
       "    <tr>\n",
       "      <th>8</th>\n",
       "      <td>371</td>\n",
       "      <td>273</td>\n",
       "      <td>Supplemental</td>\n",
       "      <td>365.0</td>\n",
       "    </tr>\n",
       "    <tr>\n",
       "      <th>9</th>\n",
       "      <td>516</td>\n",
       "      <td>248</td>\n",
       "      <td>Duplo and Explore</td>\n",
       "      <td>507.0</td>\n",
       "    </tr>\n",
       "    <tr>\n",
       "      <th>10</th>\n",
       "      <td>443</td>\n",
       "      <td>197</td>\n",
       "      <td>Service Packs</td>\n",
       "      <td>NaN</td>\n",
       "    </tr>\n",
       "    <tr>\n",
       "      <th>11</th>\n",
       "      <td>672</td>\n",
       "      <td>169</td>\n",
       "      <td>Creator 3-in-1</td>\n",
       "      <td>22.0</td>\n",
       "    </tr>\n",
       "    <tr>\n",
       "      <th>12</th>\n",
       "      <td>1</td>\n",
       "      <td>167</td>\n",
       "      <td>Technic</td>\n",
       "      <td>NaN</td>\n",
       "    </tr>\n",
       "    <tr>\n",
       "      <th>13</th>\n",
       "      <td>504</td>\n",
       "      <td>165</td>\n",
       "      <td>Duplo</td>\n",
       "      <td>NaN</td>\n",
       "    </tr>\n",
       "    <tr>\n",
       "      <th>14</th>\n",
       "      <td>61</td>\n",
       "      <td>145</td>\n",
       "      <td>Police</td>\n",
       "      <td>52.0</td>\n",
       "    </tr>\n",
       "    <tr>\n",
       "      <th>15</th>\n",
       "      <td>453</td>\n",
       "      <td>142</td>\n",
       "      <td>Technic</td>\n",
       "      <td>443.0</td>\n",
       "    </tr>\n",
       "    <tr>\n",
       "      <th>16</th>\n",
       "      <td>408</td>\n",
       "      <td>126</td>\n",
       "      <td>LEGO Brand Store</td>\n",
       "      <td>NaN</td>\n",
       "    </tr>\n",
       "    <tr>\n",
       "      <th>17</th>\n",
       "      <td>254</td>\n",
       "      <td>126</td>\n",
       "      <td>Bulk Bricks</td>\n",
       "      <td>NaN</td>\n",
       "    </tr>\n",
       "    <tr>\n",
       "      <th>18</th>\n",
       "      <td>409</td>\n",
       "      <td>124</td>\n",
       "      <td>Monthly Mini Model Build</td>\n",
       "      <td>408.0</td>\n",
       "    </tr>\n",
       "    <tr>\n",
       "      <th>19</th>\n",
       "      <td>37</td>\n",
       "      <td>121</td>\n",
       "      <td>Basic Set</td>\n",
       "      <td>22.0</td>\n",
       "    </tr>\n",
       "    <tr>\n",
       "      <th>20</th>\n",
       "      <td>52</td>\n",
       "      <td>115</td>\n",
       "      <td>City</td>\n",
       "      <td>50.0</td>\n",
       "    </tr>\n",
       "    <tr>\n",
       "      <th>21</th>\n",
       "      <td>227</td>\n",
       "      <td>112</td>\n",
       "      <td>Christmas</td>\n",
       "      <td>206.0</td>\n",
       "    </tr>\n",
       "    <tr>\n",
       "      <th>22</th>\n",
       "      <td>605</td>\n",
       "      <td>110</td>\n",
       "      <td>Nexo Knights</td>\n",
       "      <td>NaN</td>\n",
       "    </tr>\n",
       "    <tr>\n",
       "      <th>23</th>\n",
       "      <td>467</td>\n",
       "      <td>107</td>\n",
       "      <td>Basic</td>\n",
       "      <td>465.0</td>\n",
       "    </tr>\n",
       "    <tr>\n",
       "      <th>24</th>\n",
       "      <td>390</td>\n",
       "      <td>105</td>\n",
       "      <td>Fabuland</td>\n",
       "      <td>NaN</td>\n",
       "    </tr>\n",
       "    <tr>\n",
       "      <th>25</th>\n",
       "      <td>525</td>\n",
       "      <td>104</td>\n",
       "      <td>Technic</td>\n",
       "      <td>524.0</td>\n",
       "    </tr>\n",
       "    <tr>\n",
       "      <th>26</th>\n",
       "      <td>462</td>\n",
       "      <td>101</td>\n",
       "      <td>Soccer</td>\n",
       "      <td>458.0</td>\n",
       "    </tr>\n",
       "    <tr>\n",
       "      <th>27</th>\n",
       "      <td>246</td>\n",
       "      <td>100</td>\n",
       "      <td>Harry Potter</td>\n",
       "      <td>NaN</td>\n",
       "    </tr>\n",
       "    <tr>\n",
       "      <th>28</th>\n",
       "      <td>610</td>\n",
       "      <td>100</td>\n",
       "      <td>Brickheadz</td>\n",
       "      <td>NaN</td>\n",
       "    </tr>\n",
       "    <tr>\n",
       "      <th>29</th>\n",
       "      <td>473</td>\n",
       "      <td>99</td>\n",
       "      <td>Supplemental</td>\n",
       "      <td>465.0</td>\n",
       "    </tr>\n",
       "    <tr>\n",
       "      <th>30</th>\n",
       "      <td>571</td>\n",
       "      <td>90</td>\n",
       "      <td>Legends of Chima</td>\n",
       "      <td>NaN</td>\n",
       "    </tr>\n",
       "    <tr>\n",
       "      <th>31</th>\n",
       "      <td>130</td>\n",
       "      <td>89</td>\n",
       "      <td>Classic Space</td>\n",
       "      <td>126.0</td>\n",
       "    </tr>\n",
       "    <tr>\n",
       "      <th>32</th>\n",
       "      <td>469</td>\n",
       "      <td>82</td>\n",
       "      <td>Basic Set</td>\n",
       "      <td>465.0</td>\n",
       "    </tr>\n",
       "    <tr>\n",
       "      <th>33</th>\n",
       "      <td>58</td>\n",
       "      <td>80</td>\n",
       "      <td>Fire</td>\n",
       "      <td>52.0</td>\n",
       "    </tr>\n",
       "    <tr>\n",
       "      <th>34</th>\n",
       "      <td>22</td>\n",
       "      <td>80</td>\n",
       "      <td>Creator</td>\n",
       "      <td>NaN</td>\n",
       "    </tr>\n",
       "    <tr>\n",
       "      <th>35</th>\n",
       "      <td>500</td>\n",
       "      <td>77</td>\n",
       "      <td>Clikits</td>\n",
       "      <td>NaN</td>\n",
       "    </tr>\n",
       "    <tr>\n",
       "      <th>36</th>\n",
       "      <td>324</td>\n",
       "      <td>76</td>\n",
       "      <td>Bionicle</td>\n",
       "      <td>NaN</td>\n",
       "    </tr>\n",
       "    <tr>\n",
       "      <th>37</th>\n",
       "      <td>468</td>\n",
       "      <td>76</td>\n",
       "      <td>Basic Model</td>\n",
       "      <td>465.0</td>\n",
       "    </tr>\n",
       "    <tr>\n",
       "      <th>38</th>\n",
       "      <td>697</td>\n",
       "      <td>74</td>\n",
       "      <td>Batman</td>\n",
       "      <td>695.0</td>\n",
       "    </tr>\n",
       "    <tr>\n",
       "      <th>39</th>\n",
       "      <td>668</td>\n",
       "      <td>73</td>\n",
       "      <td>Scala</td>\n",
       "      <td>NaN</td>\n",
       "    </tr>\n",
       "  </tbody>\n",
       "</table>\n",
       "</div>"
      ],
      "text/plain": [
       "     id  set_count                      name  parent_id\n",
       "0   158        753                 Star Wars        NaN\n",
       "1   501        656                      Gear        NaN\n",
       "2   494        398                   Friends        NaN\n",
       "3   435        356                   Ninjago        NaN\n",
       "4   503        329                 Key Chain      501.0\n",
       "5   505        328                 Basic Set      504.0\n",
       "6   497        310                     Books        NaN\n",
       "7   632        299                      Town      504.0\n",
       "8   371        273              Supplemental      365.0\n",
       "9   516        248         Duplo and Explore      507.0\n",
       "10  443        197             Service Packs        NaN\n",
       "11  672        169            Creator 3-in-1       22.0\n",
       "12    1        167                   Technic        NaN\n",
       "13  504        165                     Duplo        NaN\n",
       "14   61        145                    Police       52.0\n",
       "15  453        142                   Technic      443.0\n",
       "16  408        126          LEGO Brand Store        NaN\n",
       "17  254        126               Bulk Bricks        NaN\n",
       "18  409        124  Monthly Mini Model Build      408.0\n",
       "19   37        121                 Basic Set       22.0\n",
       "20   52        115                      City       50.0\n",
       "21  227        112                 Christmas      206.0\n",
       "22  605        110              Nexo Knights        NaN\n",
       "23  467        107                     Basic      465.0\n",
       "24  390        105                  Fabuland        NaN\n",
       "25  525        104                   Technic      524.0\n",
       "26  462        101                    Soccer      458.0\n",
       "27  246        100              Harry Potter        NaN\n",
       "28  610        100                Brickheadz        NaN\n",
       "29  473         99              Supplemental      465.0\n",
       "30  571         90          Legends of Chima        NaN\n",
       "31  130         89             Classic Space      126.0\n",
       "32  469         82                 Basic Set      465.0\n",
       "33   58         80                      Fire       52.0\n",
       "34   22         80                   Creator        NaN\n",
       "35  500         77                   Clikits        NaN\n",
       "36  324         76                  Bionicle        NaN\n",
       "37  468         76               Basic Model      465.0\n",
       "38  697         74                    Batman      695.0\n",
       "39  668         73                     Scala        NaN"
      ]
     },
     "execution_count": 82,
     "metadata": {},
     "output_type": "execute_result"
    }
   ],
   "source": [
    "final_df = pd.merge(set_part_theme, themes, on='id')\n",
    "final_df[:40]"
   ]
  },
  {
   "cell_type": "code",
   "execution_count": 87,
   "metadata": {},
   "outputs": [
    {
     "data": {
      "text/plain": [
       "<matplotlib.legend.Legend at 0x7fd7e9db5780>"
      ]
     },
     "execution_count": 87,
     "metadata": {},
     "output_type": "execute_result"
    },
    {
     "data": {
      "image/png": "[encoded data removed]",
      "text/plain": [
       "<Figure size 1080x720 with 1 Axes>"
      ]
     },
     "metadata": {
      "needs_background": "light"
     },
     "output_type": "display_data"
    }
   ],
   "source": [
    "import matplotlib.pyplot as plt\n",
    "import numpy as np\n",
    "\n",
    "plt.style.use('_mpl-gallery')\n",
    "\n",
    "# data \n",
    "final_df = pd.merge(set_part_theme, themes, on='id')\n",
    "x_axis = final_df['name'][:80]\n",
    "y_axis = final_df['set_count'][:80]\n",
    "\n",
    "\n",
    "# plot\n",
    "fig, ax = plt.subplots(figsize=(15,10))\n",
    "plt.xticks(rotation=90)\n",
    "\n",
    "# chart name\n",
    "plt.title(\"number of lego parts form 1949-2020 \")\n",
    "\n",
    "# axis names \n",
    "plt.xlabel('year')\n",
    "plt.ylabel('part_per_sets')\n",
    "\n",
    "\n",
    "\n",
    "\n",
    "plt.bar(x_axis , y_axis , color='green' ,linewidth=2.0, label=\"Lego\")\n",
    "\n",
    "\n",
    "plt.legend() # name for each line "
   ]
  },
  {
   "cell_type": "code",
   "execution_count": null,
   "metadata": {},
   "outputs": [],
   "source": []
  }
 ],
 "metadata": {
  "colab": {
   "name": "Lego Analysis for Course (start).ipynb",
   "provenance": []
  },
  "kernelspec": {
   "display_name": "Python 3 (ipykernel)",
   "language": "python",
   "name": "python3"
  },
  "language_info": {
   "codemirror_mode": {
    "name": "ipython",
    "version": 3
   },
   "file_extension": ".py",
   "mimetype": "text/x-python",
   "name": "python",
   "nbconvert_exporter": "python",
   "pygments_lexer": "ipython3",
   "version": "3.10.5"
  }
 },
 "nbformat": 4,
 "nbformat_minor": 1
}
