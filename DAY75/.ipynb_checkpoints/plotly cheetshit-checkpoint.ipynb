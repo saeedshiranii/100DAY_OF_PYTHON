{
 "cells": [
  {
   "cell_type": "markdown",
   "id": "56b486a1",
   "metadata": {},
   "source": [
    "# Offline Mode "
   ]
  },
  {
   "cell_type": "code",
   "execution_count": 3,
   "id": "0e055807",
   "metadata": {},
   "outputs": [
    {
     "ename": "AttributeError",
     "evalue": "module 'plotly.offline' has no attribute 'init_notebook_mood'",
     "output_type": "error",
     "traceback": [
      "\u001b[0;31m---------------------------------------------------------------------------\u001b[0m",
      "\u001b[0;31mAttributeError\u001b[0m                            Traceback (most recent call last)",
      "Input \u001b[0;32mIn [3]\u001b[0m, in \u001b[0;36m<cell line: 8>\u001b[0;34m()\u001b[0m\n\u001b[1;32m      4\u001b[0m \u001b[38;5;28;01mimport\u001b[39;00m \u001b[38;5;21;01mnumpy\u001b[39;00m \u001b[38;5;28;01mas\u001b[39;00m \u001b[38;5;21;01mnp\u001b[39;00m\n\u001b[1;32m      5\u001b[0m \u001b[38;5;66;03m# from scipy import special # draw besel funcs as , they are called in scipy as special functions\u001b[39;00m\n\u001b[1;32m      6\u001b[0m \n\u001b[1;32m      7\u001b[0m \u001b[38;5;66;03m# setup offline mode in using plotly\u001b[39;00m\n\u001b[0;32m----> 8\u001b[0m \u001b[43mpy\u001b[49m\u001b[38;5;241;43m.\u001b[39;49m\u001b[43moffline\u001b[49m\u001b[38;5;241;43m.\u001b[39;49m\u001b[43minit_notebook_mood\u001b[49m(connected\u001b[38;5;241m=\u001b[39m\u001b[38;5;28;01mTrue\u001b[39;00m)\n",
      "\u001b[0;31mAttributeError\u001b[0m: module 'plotly.offline' has no attribute 'init_notebook_mood'"
     ]
    }
   ],
   "source": [
    "import plotly as py # px # plotly\n",
    "import plotly.graph_objs as go #px_go # for all graphical tools\n",
    "import ipywidgets as widgets\n",
    "import numpy as np\n",
    "# from scipy import special # draw besel funcs as , they are called in scipy as special functions\n",
    "\n",
    "# setup offline mode in using plotly\n",
    "py.offline.init_notebook_mood(connected=True)\n"
   ]
  },
  {
   "cell_type": "code",
   "execution_count": 4,
   "id": "fe2feb6c",
   "metadata": {},
   "outputs": [],
   "source": [
    "import plotly.express as px\n",
    "fig = px.bar(x=[\"a\", \"b\", \"c\"], y=[1, 3, 2])\n",
    "fig.write_html('first_figure.html', auto_open=True)\n"
   ]
  },
  {
   "cell_type": "code",
   "execution_count": null,
   "id": "46530e12",
   "metadata": {},
   "outputs": [],
   "source": []
  }
 ],
 "metadata": {
  "kernelspec": {
   "display_name": "Python 3 (ipykernel)",
   "language": "python",
   "name": "python3"
  },
  "language_info": {
   "codemirror_mode": {
    "name": "ipython",
    "version": 3
   },
   "file_extension": ".py",
   "mimetype": "text/x-python",
   "name": "python",
   "nbconvert_exporter": "python",
   "pygments_lexer": "ipython3",
   "version": "3.10.5"
  }
 },
 "nbformat": 4,
 "nbformat_minor": 5
}
